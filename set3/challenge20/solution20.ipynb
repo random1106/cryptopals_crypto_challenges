{
 "cells": [
  {
   "cell_type": "code",
   "execution_count": 90,
   "id": "fb119bf6",
   "metadata": {},
   "outputs": [],
   "source": [
    "import base64\n",
    "from collections import Counter\n",
    "import secrets\n",
    "import numpy as np\n",
    "from Crypto.Cipher import AES"
   ]
  },
  {
   "cell_type": "code",
   "execution_count": 91,
   "id": "50b62da2",
   "metadata": {},
   "outputs": [],
   "source": [
    "datas = np.loadtxt(\"https://cryptopals.com/static/challenge-data/20.txt\", dtype=\"str\")"
   ]
  },
  {
   "cell_type": "code",
   "execution_count": 92,
   "id": "c45bdf1a",
   "metadata": {},
   "outputs": [],
   "source": [
    "def generate_random_bytes(bytes_length):\n",
    "    random_bytes = secrets.token_bytes(bytes_length)\n",
    "    return random_bytes\n",
    "\n",
    "BLOCK_LENGTH = 16\n",
    "KEY = generate_random_bytes(BLOCK_LENGTH)"
   ]
  },
  {
   "cell_type": "code",
   "execution_count": 93,
   "id": "1787765f",
   "metadata": {},
   "outputs": [],
   "source": [
    "def crypt_CTR(message, key=KEY, block_len=BLOCK_LENGTH):\n",
    "    message_len = len(message)\n",
    "    crypted_message = b\"\"\n",
    "    for i in range((message_len - 1) // block_len + 1):\n",
    "        num = i\n",
    "        nonce = b\"\\x00\" * 8\n",
    "        block_index = num.to_bytes(8, byteorder=\"little\")\n",
    "        cipher = AES.new(key, AES.MODE_ECB)\n",
    "        if i < (message_len - 1) // block_len:\n",
    "            encrypted_block = message[i*block_len:(i+1)*block_len]\n",
    "        else:\n",
    "            encrypted_block = message[i*block_len:]\n",
    "        key_stream = cipher.encrypt(nonce+block_index)\n",
    "        decrypted_block = bytes([c1^c2 for c1, c2 in zip(encrypted_block, key_stream[:len(encrypted_block)])])\n",
    "        crypted_message += decrypted_block\n",
    "    return crypted_message"
   ]
  },
  {
   "cell_type": "code",
   "execution_count": 94,
   "id": "1aefa8f6",
   "metadata": {},
   "outputs": [],
   "source": [
    "datas = [base64.b64decode(data) for data in datas]\n",
    "encrypted_datas = [crypt_CTR(message) for message in datas]"
   ]
  },
  {
   "cell_type": "code",
   "execution_count": 95,
   "id": "cf62cae5",
   "metadata": {},
   "outputs": [],
   "source": [
    "def find_max_size(datas):\n",
    "    max_size = max(len(data) for data in datas)\n",
    "    return max_size"
   ]
  },
  {
   "cell_type": "code",
   "execution_count": 96,
   "id": "4c55c283",
   "metadata": {},
   "outputs": [],
   "source": [
    "max_size = find_max_size(encrypted_datas)"
   ]
  },
  {
   "cell_type": "code",
   "execution_count": 97,
   "id": "f2c47d03",
   "metadata": {},
   "outputs": [],
   "source": [
    "def assign_score(output_string):\n",
    "    string_score = 0\n",
    "    freq = [' ', 'e', 't', 'a', 'o', 'i']\n",
    "    # freq = [' ', 'e', 't', 'a', 'o', 'i', 'n', 's', 'h', 'r', 'd', 'l', 'u']\n",
    "    for letter in output_string:\n",
    "        if letter in freq:\n",
    "            string_score += 1\n",
    "    return string_score\n",
    "\n",
    "def find_single_key(message):\n",
    "    string_score = 0\n",
    "    key = None\n",
    "    for k in range(256):\n",
    "        res = []\n",
    "        for i in range(0, len(message)):\n",
    "            res.append(chr(k ^ message[i]))\n",
    "        if assign_score(\"\".join(res)) > string_score:\n",
    "            key = k\n",
    "            string_score = assign_score(\"\".join(res))\n",
    "    return key\n",
    "\n",
    "def find_repeated_key(messages, max_size):\n",
    "    keys = []\n",
    "    for i in range(max_size):\n",
    "        col = [message[i] for message in messages if i < len(message)]\n",
    "        keys.append(find_single_key(bytes(col)))\n",
    "    return keys\n",
    "\n",
    "def decrypt_repeated_key_xor(messages, max_size):\n",
    "    decrypted_messages = []\n",
    "    keys= find_repeated_key(messages, max_size)\n",
    "    for message in messages:\n",
    "        decrypted_message = []\n",
    "        assert len(message) <= max_size\n",
    "        for i in range(len(message)):\n",
    "            decrypted_message.append(message[i] ^ keys[i])\n",
    "        decrypted_messages.append(bytes(decrypted_message))\n",
    "    return decrypted_messages        "
   ]
  },
  {
   "cell_type": "code",
   "execution_count": 98,
   "id": "eb2fdfbd",
   "metadata": {},
   "outputs": [
    {
     "data": {
      "text/plain": [
       "[b'i\\'m rated \"R\"...this is a warning, ya better void / Poets are paranoid, DJ\\'s D-stroyed',\n",
       " b\"cuz I came back to attack others in spite- / Strike like lightnin', It's quite frightenin'd\",\n",
       " b\"but don't be afraid in the dark, in a park / Not a scream or a cry, or a bark, more like aespark;\",\n",
       " b\"ya tremble like a alcoholic, muscles tighten up / What's that, lighten up! You see a sightebut\",\n",
       " b'suddenly you feel like your in a horror flick / You grab your heart then wish for tomorrowequick!',\n",
       " b\"music's the clue, when I come your warned / Apocalypse Now, when I'm done, ya gone!\",\n",
       " b\"haven't you ever heard of a MC-murderer? / This is the death penalty,and I'm servin' a\",\n",
       " b'death wish, so come on, step to this / Hysterical idea for a lyrical professionist!',\n",
       " b'friday the thirteenth, walking down Elm Street / You come in my realm ya get beat!',\n",
       " b'this is off limits, so your visions are blurry / All ya see is the meters at a volume',\n",
       " b\"terror in the styles, never error-files / Indeed I'm known-your exiled!\",\n",
       " b\"for those that oppose to be level or next to this / I ain't a devil and this ain't the Exo7cist!\",\n",
       " b\"worse than a nightmare, you don't have to sleep a wink / The pain's a migraine every time <a thin.\",\n",
       " b'flashbacks interfere, ya start to hear: / The R-A-K-I-M in your ear;',\n",
       " b'then the beat is hysterical / That makes Eric go get a ax and chops the wack',\n",
       " b'soon the lyrical format is superior / Faces of death remain',\n",
       " b\"mC's decaying, cuz they never stayed / The scene of a crime every night at the show\",\n",
       " b\"the fiend of a rhyme on the mic that you know / It's only one capable, breaks-the unbreaka'le\",\n",
       " b'melodies-unmakable, pattern-unescapable / A horn if want the style I posses',\n",
       " b'i bless the child, the earth, the gods and bomb the rest / For those that envy a MC it canebe',\n",
       " b'hazardous to your health so be friendly / A matter of life and death, just like a etch-a-s.etch',\n",
       " b\"shake 'till your clear, make it disappear, make the next / After the ceremony, let the rhy(e resteku eee\\x7fe\",\n",
       " b\"if not, my soul'll release! / The scene is recreated, reincarnated, updated, I'm glad you (ade it\",\n",
       " b'cuz your about to see a disastrous sight / A performance never again performed on a mic:',\n",
       " b'lyrics of fury! A fearified freestyle! / The \"R\" is in the house-too much tension!',\n",
       " b\"make sure the system's loud when I mention / Phrases that's fearsome\",\n",
       " b'you want to hear some sounds that not only pounds but please your eardrums; / I sit back a+d obse7t~ aha<w!tattoi\\x7f+}tt',\n",
       " b\"then nonchalantly tell you what it mean to me / Strictly business I'm quickly in this mood\",\n",
       " b\"and I don't care if the whole crowd's a witness! / I'm a tear you apart but I'm a spare yo0 a hea7v\",\n",
       " b\"program into the speed of the rhyme, prepare to start / Rhythm's out of the radius, insaneeas theeaiaoiaot\",\n",
       " b\"musical madness MC ever made, see it's / Now an emergency, open-heart surgery\",\n",
       " b\"open your mind, you will find every word'll be / Furier than ever, I remain the furture\",\n",
       " b\"battle's tempting...whatever suits ya! / For words the sentence, there's no resemblance\",\n",
       " b\"you think you're ruffer, then suffer the consequences! / I'm never dying-terrifying result6\",\n",
       " b'i wake ya with hundreds of thousands of volts / Mic-to-mouth resuscitation, rhythm with ra!iation',\n",
       " b\"novocain ease the pain it might save him / If not, Eric B.'s the judge, the crowd's the ju7y\",\n",
       " b\"yo Rakim, what's up? / Yo, I'm doing the knowledge, E., man I'm trying to get paid in full\",\n",
       " b'well, check this out, since Norby Walters is our agency, right? / True',\n",
       " b'kara Lewis is our agent, word up / Zakia and 4th and Broadway is our record company, indee!',\n",
       " b\"okay, so who we rollin' with then? We rollin' with Rush / Of Rushtown Management\",\n",
       " b'check this out, since we talking over / This def beat right here that I put together',\n",
       " b'i wanna hear some of them def rhymes, you know what I\\'m sayin\\'? / And together, we can getepaid i+\"}uyl',\n",
       " b\"thinkin' of a master plan / 'Cuz ain't nuthin' but sweat inside my hand\",\n",
       " b\"so I dig into my pocket, all my money is spent / So I dig deeper but still comin' up with )int\",\n",
       " b\"so I start my mission, leave my residence / Thinkin' how could I get some dead presidents\",\n",
       " b'i need money, I used to be a stick-up kid / So I think of all the devious things I did',\n",
       " b\"i used to roll up, this is a hold up, ain't nuthin' funny / Stop smiling, be still, don't +uthin'eotvp fitioettqet a\",\n",
       " b\"but now I learned to earn 'cuz I'm righteous / I feel great, so maybe I might just\",\n",
       " b\"search for a nine to five, if I strive / Then maybe I'll stay alive\",\n",
       " b\"so I walk up the street whistlin' this / Feelin' out of place 'cuz, man, do I miss\",\n",
       " b'a pen and a paper, a stereo, a tape of / Me and Eric B, and a nice big plate of',\n",
       " b\"fish, which is my favorite dish / But without no money it's still a wish\",\n",
       " b\"\\x07Cuz I don't like to dream about gettin' paid / So I dig into the books of the rhymes thateI made\",\n",
       " b\"so now to test to see if I got pull / Hit the studio, 'cuz I'm paid in full\",\n",
       " b\"rakim, check this out, yo / You go to your girl house and I'll go to mine\",\n",
       " b\"\\x07Cause my girl is definitely mad / 'Cause it took us too long to do this album\",\n",
       " b\"yo, I hear what you're saying / So let's just pump the music up\",\n",
       " b'and count our money / Yo, well check this out, yo Eli',\n",
       " b\"turn down the bass down / And let the beat just keep on rockin'\",\n",
       " b'and we outta here / Yo, what happened to peace? / Peace']"
      ]
     },
     "execution_count": 98,
     "metadata": {},
     "output_type": "execute_result"
    }
   ],
   "source": [
    "decrypt_repeated_key_xor(encrypted_datas, max_size)"
   ]
  }
 ],
 "metadata": {
  "kernelspec": {
   "display_name": "Python 3",
   "language": "python",
   "name": "python3"
  },
  "language_info": {
   "codemirror_mode": {
    "name": "ipython",
    "version": 3
   },
   "file_extension": ".py",
   "mimetype": "text/x-python",
   "name": "python",
   "nbconvert_exporter": "python",
   "pygments_lexer": "ipython3",
   "version": "3.10.5"
  }
 },
 "nbformat": 4,
 "nbformat_minor": 5
}
