{
 "cells": [
  {
   "cell_type": "code",
   "execution_count": 113,
   "id": "fb119bf6",
   "metadata": {},
   "outputs": [],
   "source": [
    "import base64\n",
    "from collections import Counter\n",
    "import secrets\n",
    "import numpy as np\n",
    "from Crypto.Cipher import AES"
   ]
  },
  {
   "cell_type": "code",
   "execution_count": 114,
   "id": "50b62da2",
   "metadata": {},
   "outputs": [],
   "source": [
    "datas = np.loadtxt(\"https://cryptopals.com/static/challenge-data/20.txt\", dtype=\"str\")"
   ]
  },
  {
   "cell_type": "code",
   "execution_count": 115,
   "id": "c45bdf1a",
   "metadata": {},
   "outputs": [],
   "source": [
    "def generate_random_bytes(bytes_length):\n",
    "    random_bytes = secrets.token_bytes(bytes_length)\n",
    "    return random_bytes\n",
    "\n",
    "BLOCK_LENGTH = 16\n",
    "KEY = generate_random_bytes(BLOCK_LENGTH)"
   ]
  },
  {
   "cell_type": "code",
   "execution_count": 116,
   "id": "1787765f",
   "metadata": {},
   "outputs": [],
   "source": [
    "def crypt_CTR(message, key=KEY, block_len=BLOCK_LENGTH):\n",
    "    message_len = len(message)\n",
    "    crypted_message = b\"\"\n",
    "    for i in range((message_len - 1) // block_len + 1):\n",
    "        num = i\n",
    "        nonce = b\"\\x00\" * 8\n",
    "        block_index = num.to_bytes(8, byteorder=\"little\")\n",
    "        cipher = AES.new(key, AES.MODE_ECB)\n",
    "        if i < (message_len - 1) // block_len:\n",
    "            encrypted_block = message[i*block_len:(i+1)*block_len]\n",
    "        else:\n",
    "            encrypted_block = message[i*block_len:]\n",
    "        key_stream = cipher.encrypt(nonce+block_index)\n",
    "        decrypted_block = bytes([c1^c2 for c1, c2 in zip(encrypted_block, key_stream[:len(encrypted_block)])])\n",
    "        crypted_message += decrypted_block\n",
    "    return crypted_message"
   ]
  },
  {
   "cell_type": "code",
   "execution_count": 117,
   "id": "1aefa8f6",
   "metadata": {},
   "outputs": [],
   "source": [
    "datas = [base64.b64decode(data) for data in datas]\n",
    "encrypted_datas = [crypt_CTR(message) for message in datas]"
   ]
  },
  {
   "cell_type": "code",
   "execution_count": null,
   "id": "cf62cae5",
   "metadata": {},
   "outputs": [],
   "source": [
    "def find_common_size(datas):\n",
    "    common_size = min(len(data) for data in datas)\n",
    "    return common_size"
   ]
  },
  {
   "cell_type": "code",
   "execution_count": 119,
   "id": "4c55c283",
   "metadata": {},
   "outputs": [],
   "source": [
    "common_size = find_common_size(encrypted_datas)\n",
    "\n",
    "clipped_datas = [encrypted_data[:common_size] for encrypted_data in encrypted_datas]\n",
    "concat_clipped_datas = b\"\".join(clipped_datas)"
   ]
  },
  {
   "cell_type": "code",
   "execution_count": null,
   "id": "f2c47d03",
   "metadata": {},
   "outputs": [],
   "source": [
    "def assign_score(output_string):\n",
    "    string_score = 0\n",
    "    freq = [' ', 'e', 't', 'a']\n",
    "    for letter in output_string:\n",
    "        if letter in freq:\n",
    "            string_score += 1\n",
    "    return string_score\n",
    "\n",
    "def find_single_key(message):\n",
    "    string_score = 0\n",
    "    key = None\n",
    "    for k in range(256):\n",
    "        res = []\n",
    "        for i in range(0, len(message)):\n",
    "            res.append(chr(k ^ message[i]))\n",
    "        if assign_score(\"\".join(res)) > string_score:\n",
    "            key = k\n",
    "            string_score = assign_score(\"\".join(res))\n",
    "    return key\n",
    "\n",
    "def find_repeated_key(message, keysize):\n",
    "    assert len(message) % keysize == 0\n",
    "    keys = []\n",
    "    for i in range(keysize):\n",
    "        keys.append(find_single_key(message[i::keysize]))\n",
    "    return keys\n",
    "\n",
    "def decrypt_repeated_key_xor(message, keysize):\n",
    "    res = []\n",
    "    keys = find_repeated_key(message, keysize)\n",
    "    for i in range(len(message) // keysize):\n",
    "        for j in range(keysize):\n",
    "            res.append((message[i*keysize+j])^keys[j])\n",
    "\n",
    "    return bytes(res), keys"
   ]
  },
  {
   "cell_type": "code",
   "execution_count": 122,
   "id": "eb2fdfbd",
   "metadata": {},
   "outputs": [],
   "source": [
    "decrypted_clipped, keys = decrypt_repeated_key_xor(concat_clipped_datas, common_size)"
   ]
  }
 ],
 "metadata": {
  "kernelspec": {
   "display_name": "Python 3",
   "language": "python",
   "name": "python3"
  },
  "language_info": {
   "codemirror_mode": {
    "name": "ipython",
    "version": 3
   },
   "file_extension": ".py",
   "mimetype": "text/x-python",
   "name": "python",
   "nbconvert_exporter": "python",
   "pygments_lexer": "ipython3",
   "version": "3.10.5"
  }
 },
 "nbformat": 4,
 "nbformat_minor": 5
}
