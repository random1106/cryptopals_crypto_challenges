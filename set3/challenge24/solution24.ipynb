{
 "cells": [
  {
   "cell_type": "code",
   "execution_count": 131,
   "id": "76f3efca",
   "metadata": {},
   "outputs": [],
   "source": [
    "import random\n",
    "import time"
   ]
  },
  {
   "cell_type": "code",
   "execution_count": 132,
   "id": "6ff0bfeb",
   "metadata": {},
   "outputs": [],
   "source": [
    "# recommended seed = 19650218\n",
    "class MT19937:\n",
    "\n",
    "    n = 624\n",
    "    m = 397\n",
    "    w = 32\n",
    "    r = 31\n",
    "    UMASK = 0xffffffff << r\n",
    "    LMASK = 0xffffffff >> (w-r)\n",
    "    a = 0x9908b0df\n",
    "    u = 11\n",
    "    s = 7\n",
    "    t = 15\n",
    "    l = 18\n",
    "    b = 0x9d2c5680\n",
    "    c = 0xefc60000\n",
    "    f = 1812433253\n",
    "\n",
    "    def __init__(self, seed):\n",
    "        self.seed = seed & ((1 << self.w) - 1)\n",
    "        self.state_array = [0] * self.n\n",
    "        self.state_index = 0\n",
    "\n",
    "# state = {\"state_array\":[0]*n, \"state_index\":0}\n",
    "\n",
    "    def initialize_state(self):\n",
    "        self.state_array[0] = self.seed\n",
    "        for i in range(1, self.n):\n",
    "            self.seed = (self.f * (self.seed ^ (self.seed >> self.w-2)) + i) & ((1 << self.w) - 1)\n",
    "            self.state_array[i] = self.seed\n",
    "\n",
    "        self.state_index = 0\n",
    "\n",
    "    def twister(self):\n",
    "        k = self.state_index\n",
    "\n",
    "        j = k - (self.n-1)\n",
    "        if j < 0:\n",
    "            j += self.n\n",
    "\n",
    "        x = ((self.state_array[k] & self.UMASK) | (self.state_array[j] & self.LMASK)) & ((1 << self.w) - 1)\n",
    "\n",
    "        xA = x >> 1\n",
    "        if (x & 0x00000001):\n",
    "            xA ^= self.a\n",
    "\n",
    "        j = k - (self.n - self.m)\n",
    "        if j < 0:\n",
    "            j += self.n \n",
    "\n",
    "        x = self.state_array[j] ^ xA\n",
    "        self.state_array[k] = x\n",
    "        k += 1\n",
    "\n",
    "        if (k >= self.n):\n",
    "            k = 0\n",
    "        \n",
    "        self.state_index = k\n",
    "\n",
    "        return x\n",
    "\n",
    "    def temper(self):\n",
    "        x = self.twister()\n",
    "        y = (x^(x >> self.u)) & ((1 << self.w) - 1)\n",
    "        y = (y ^ ((y << self.s) & self.b)) & ((1 << self.w) - 1)\n",
    "        y = (y ^ ((y << self.t) & self.c)) & ((1 << self.w) - 1)\n",
    "        z = y ^ (y >> self.l)\n",
    "\n",
    "        return z"
   ]
  },
  {
   "cell_type": "code",
   "execution_count": 133,
   "id": "ae8d557f",
   "metadata": {},
   "outputs": [],
   "source": [
    "seed = random.randint(0, 2**16 - 1)\n",
    "num = random.randint(5, 20)\n",
    "prefix = bytes([random.randint(0, 255) for _ in range(num)])\n",
    "text = prefix + b\"A\" * 14"
   ]
  },
  {
   "cell_type": "code",
   "execution_count": 134,
   "id": "57b120df",
   "metadata": {},
   "outputs": [],
   "source": [
    "def encrypt_MT19937(text, seed):\n",
    "    RNG = MT19937(seed)\n",
    "    RNG.initialize_state()\n",
    "    res = []\n",
    "    for k in range(len(text) // 4):\n",
    "        key = RNG.temper()\n",
    "        for i in range(4):\n",
    "            res.append(((key >> (3-i)*8) & 0xFF) ^ text[4*k + i])\n",
    "\n",
    "    for i in range(len(text) % 4):\n",
    "        key = RNG.temper()\n",
    "        res.append(((key >> (3-i)*8) & 0xFF) ^ (text[4*(len(text) // 4) + i]))\n",
    "\n",
    "    return bytes(res)"
   ]
  },
  {
   "cell_type": "code",
   "execution_count": 135,
   "id": "edc6930d",
   "metadata": {},
   "outputs": [],
   "source": [
    "encrypted_text = encrypt_MT19937(text, seed)"
   ]
  },
  {
   "cell_type": "code",
   "execution_count": 136,
   "id": "b2f743ad",
   "metadata": {},
   "outputs": [],
   "source": [
    "def crack_seed(encrypted_text, a, b):\n",
    "\n",
    "    for seed in range(a, b):\n",
    "        RNG = MT19937(seed)\n",
    "        RNG.initialize_state()\n",
    "        res = []\n",
    "        for k in range(len(encrypted_text) // 4):\n",
    "            key = RNG.temper()\n",
    "            for i in range(4):\n",
    "                res.append(((key >> (3-i)*8) & 0xFF) ^ encrypted_text[4*k + i])\n",
    "\n",
    "        for i in range(len(encrypted_text) % 4):\n",
    "            key = RNG.temper()\n",
    "            res.append(((key >> (3-i)*8) & 0xFF) ^ (encrypted_text[4*(len(encrypted_text) // 4) + i]))\n",
    "\n",
    "        assert len(res) == len(encrypted_text)\n",
    "        if bytes(res)[-14:] == b\"A\" * 14:\n",
    "            return seed\n",
    "    \n",
    "    return \"Do not find seed\""
   ]
  },
  {
   "cell_type": "code",
   "execution_count": 137,
   "id": "c2675f06",
   "metadata": {},
   "outputs": [
    {
     "name": "stdout",
     "output_type": "stream",
     "text": [
      "The seed is cracked: True\n",
      "The cracked seed 31041\n"
     ]
    }
   ],
   "source": [
    "cracked_seed = crack_seed(encrypted_text, a=0, b=2**16)\n",
    "print(\"The seed is cracked:\", cracked_seed == seed)\n",
    "print(\"The cracked seed\", cracked_seed)"
   ]
  },
  {
   "cell_type": "code",
   "execution_count": 139,
   "id": "f8591805",
   "metadata": {},
   "outputs": [],
   "source": [
    "seed = int(time.time())\n",
    "encrypted_text = encrypt_MT19937(text, seed)"
   ]
  },
  {
   "cell_type": "code",
   "execution_count": 142,
   "id": "732d88eb",
   "metadata": {},
   "outputs": [
    {
     "name": "stdout",
     "output_type": "stream",
     "text": [
      "The seed is cracked: True\n",
      "The cracked seed 1748750117\n"
     ]
    }
   ],
   "source": [
    "cracked_seed = crack_seed(encrypted_text, a=1748740000, b=1748760000)\n",
    "print(\"The seed is cracked:\", cracked_seed == seed)\n",
    "print(\"The cracked seed\", cracked_seed)"
   ]
  }
 ],
 "metadata": {
  "kernelspec": {
   "display_name": "Python 3",
   "language": "python",
   "name": "python3"
  },
  "language_info": {
   "codemirror_mode": {
    "name": "ipython",
    "version": 3
   },
   "file_extension": ".py",
   "mimetype": "text/x-python",
   "name": "python",
   "nbconvert_exporter": "python",
   "pygments_lexer": "ipython3",
   "version": "3.10.5"
  }
 },
 "nbformat": 4,
 "nbformat_minor": 5
}
