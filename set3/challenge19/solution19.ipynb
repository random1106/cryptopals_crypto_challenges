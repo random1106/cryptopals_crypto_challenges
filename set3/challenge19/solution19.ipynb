{
 "cells": [
  {
   "cell_type": "code",
   "execution_count": 245,
   "id": "404141dd",
   "metadata": {},
   "outputs": [],
   "source": [
    "import base64\n",
    "from collections import Counter\n",
    "import secrets\n",
    "import numpy as np\n",
    "from Crypto.Cipher import AES"
   ]
  },
  {
   "cell_type": "code",
   "execution_count": 246,
   "id": "8da09c41",
   "metadata": {},
   "outputs": [],
   "source": [
    "data = b\"\"\"\n",
    "SSBoYXZlIG1ldCB0aGVtIGF0IGNsb3NlIG9mIGRheQ==\n",
    "Q29taW5nIHdpdGggdml2aWQgZmFjZXM=\n",
    "RnJvbSBjb3VudGVyIG9yIGRlc2sgYW1vbmcgZ3JleQ==\n",
    "RWlnaHRlZW50aC1jZW50dXJ5IGhvdXNlcy4=\n",
    "SSBoYXZlIHBhc3NlZCB3aXRoIGEgbm9kIG9mIHRoZSBoZWFk\n",
    "T3IgcG9saXRlIG1lYW5pbmdsZXNzIHdvcmRzLA==\n",
    "T3IgaGF2ZSBsaW5nZXJlZCBhd2hpbGUgYW5kIHNhaWQ=\n",
    "UG9saXRlIG1lYW5pbmdsZXNzIHdvcmRzLA==\n",
    "QW5kIHRob3VnaHQgYmVmb3JlIEkgaGFkIGRvbmU=\n",
    "T2YgYSBtb2NraW5nIHRhbGUgb3IgYSBnaWJl\n",
    "VG8gcGxlYXNlIGEgY29tcGFuaW9u\n",
    "QXJvdW5kIHRoZSBmaXJlIGF0IHRoZSBjbHViLA==\n",
    "QmVpbmcgY2VydGFpbiB0aGF0IHRoZXkgYW5kIEk=\n",
    "QnV0IGxpdmVkIHdoZXJlIG1vdGxleSBpcyB3b3JuOg==\n",
    "QWxsIGNoYW5nZWQsIGNoYW5nZWQgdXR0ZXJseTo=\n",
    "QSB0ZXJyaWJsZSBiZWF1dHkgaXMgYm9ybi4=\n",
    "VGhhdCB3b21hbidzIGRheXMgd2VyZSBzcGVudA==\n",
    "SW4gaWdub3JhbnQgZ29vZCB3aWxsLA==\n",
    "SGVyIG5pZ2h0cyBpbiBhcmd1bWVudA==\n",
    "VW50aWwgaGVyIHZvaWNlIGdyZXcgc2hyaWxsLg==\n",
    "V2hhdCB2b2ljZSBtb3JlIHN3ZWV0IHRoYW4gaGVycw==\n",
    "V2hlbiB5b3VuZyBhbmQgYmVhdXRpZnVsLA==\n",
    "U2hlIHJvZGUgdG8gaGFycmllcnM/\n",
    "VGhpcyBtYW4gaGFkIGtlcHQgYSBzY2hvb2w=\n",
    "QW5kIHJvZGUgb3VyIHdpbmdlZCBob3JzZS4=\n",
    "VGhpcyBvdGhlciBoaXMgaGVscGVyIGFuZCBmcmllbmQ=\n",
    "V2FzIGNvbWluZyBpbnRvIGhpcyBmb3JjZTs=\n",
    "SGUgbWlnaHQgaGF2ZSB3b24gZmFtZSBpbiB0aGUgZW5kLA==\n",
    "U28gc2Vuc2l0aXZlIGhpcyBuYXR1cmUgc2VlbWVkLA==\n",
    "U28gZGFyaW5nIGFuZCBzd2VldCBoaXMgdGhvdWdodC4=\n",
    "VGhpcyBvdGhlciBtYW4gSSBoYWQgZHJlYW1lZA==\n",
    "QSBkcnVua2VuLCB2YWluLWdsb3Jpb3VzIGxvdXQu\n",
    "SGUgaGFkIGRvbmUgbW9zdCBiaXR0ZXIgd3Jvbmc=\n",
    "VG8gc29tZSB3aG8gYXJlIG5lYXIgbXkgaGVhcnQs\n",
    "WWV0IEkgbnVtYmVyIGhpbSBpbiB0aGUgc29uZzs=\n",
    "SGUsIHRvbywgaGFzIHJlc2lnbmVkIGhpcyBwYXJ0\n",
    "SW4gdGhlIGNhc3VhbCBjb21lZHk7\n",
    "SGUsIHRvbywgaGFzIGJlZW4gY2hhbmdlZCBpbiBoaXMgdHVybiw=\n",
    "VHJhbnNmb3JtZWQgdXR0ZXJseTo=\n",
    "QSB0ZXJyaWJsZSBiZWF1dHkgaXMgYm9ybi4=\n",
    "\"\"\".splitlines()\n",
    "\n",
    "# Remove any empty strings (e.g., from the first line)\n",
    "data = [base64.b64decode(line) for line in data if line]"
   ]
  },
  {
   "cell_type": "code",
   "execution_count": null,
   "id": "65e24911",
   "metadata": {},
   "outputs": [],
   "source": [
    "def generate_random_bytes(bytes_length):\n",
    "    random_bytes = secrets.token_bytes(bytes_length)\n",
    "    return random_bytes\n",
    "\n",
    "BLOCK_LENGTH = 16\n",
    "KEY = generate_random_bytes(BLOCK_LENGTH)\n",
    "\n",
    "def crypt_CTR(message, key=KEY, block_len=BLOCK_LENGTH):\n",
    "    message_len = len(message)\n",
    "    crypted_message = b\"\"\n",
    "    for i in range((message_len - 1) // block_len + 1):\n",
    "        num = i\n",
    "        nonce = b\"\\x00\" * 8\n",
    "        block_index = num.to_bytes(8, byteorder=\"little\")\n",
    "        cipher = AES.new(key, AES.MODE_ECB)\n",
    "        if i < (message_len - 1) // block_len:\n",
    "            encrypted_block = message[i*block_len:(i+1)*block_len]\n",
    "        else:\n",
    "            encrypted_block = message[i*block_len:]\n",
    "        key_stream = cipher.encrypt(nonce+block_index)\n",
    "        decrypted_block = bytes([c1^c2 for c1, c2 in zip(encrypted_block, key_stream[:len(encrypted_block)])])\n",
    "        crypted_message += decrypted_block\n",
    "    return crypted_message\n",
    "\n",
    "def assign_score(output_string):\n",
    "    string_score = 0\n",
    "    freq = [' ', \"e\", \"t\"]\n",
    "    for letter in output_string:\n",
    "        if letter in freq:\n",
    "            string_score += 1\n",
    "    return string_score"
   ]
  },
  {
   "cell_type": "code",
   "execution_count": 248,
   "id": "c54a1989",
   "metadata": {},
   "outputs": [],
   "source": [
    "encrypted_data = [crypt_CTR(message) for message in data]\n",
    "keys = []\n",
    "\n",
    "for i in range(3*BLOCK_LENGTH):\n",
    "    letter_list = []\n",
    "    for line in encrypted_data:\n",
    "        if i < len(line):\n",
    "            letter_list.append(line[i])\n",
    "    best_score = 0\n",
    "    \n",
    "    for j in range(256):\n",
    "        decrypted_letter = [chr(j^letter) for letter in letter_list]\n",
    "        score = assign_score(decrypted_letter) \n",
    "        if score > best_score:\n",
    "            best_score = score\n",
    "            k = j\n",
    "\n",
    "    keys.append(k)"
   ]
  },
  {
   "cell_type": "code",
   "execution_count": null,
   "id": "5dda1c57",
   "metadata": {},
   "outputs": [],
   "source": [
    "decrypted_message = []\n",
    "\n",
    "for message in encrypted_data:\n",
    "    res = []\n",
    "    for i, key in enumerate(keys):\n",
    "        if i < len(message):\n",
    "            res.append(key^(message[i]))\n",
    "    decrypted_message.append(bytes(res))"
   ]
  },
  {
   "cell_type": "code",
   "execution_count": null,
   "id": "76dc5b55",
   "metadata": {},
   "outputs": [
    {
     "data": {
      "text/plain": [
       "[b'm hav  met them at close *ftday',\n",
       " b'gomin\" with vivid faces',\n",
       " b'brom &ounter or desk amon\" 3rey',\n",
       " b'aight enth-century housesk',\n",
       " b'm hav  passed with a nod *ftthed<t  ',\n",
       " b'kr po)ite meaningless wor!sx',\n",
       " b'kr ha3e lingered awhile a+dtsai ',\n",
       " b'tolit  meaningless words,',\n",
       " b'end t-ought before I had !o:e',\n",
       " b\"kf a (ocking tale or a gi'e\",\n",
       " b'po pl ase a companion',\n",
       " b'eroun! the fire at the cl0bx',\n",
       " b'feingecertain that they a+dtI',\n",
       " b'fut l,ved where motley isew;rn:',\n",
       " b'ell c-anged, changed utte7l-:',\n",
       " b'e ter7ible beauty is bornk',\n",
       " b\"phat 2oman's days were sp n \",\n",
       " b'mn ig+orant good will,',\n",
       " b'ler n,ghts in argument',\n",
       " b'qntileher voice grew shri)lz',\n",
       " b'shat 3oice more sweet tha+ <ers',\n",
       " b'shen <oung and beautiful,',\n",
       " b'whe r*de to harriers?',\n",
       " b'phis (an had kept a schoo)',\n",
       " b'end r*de our winged horsek',\n",
       " b'phis *ther his helper andef&ien ',\n",
       " b'sas c*ming into his force~',\n",
       " b'le mi\"ht have won fame inet<e e*0=',\n",
       " b'wo se+sitive his nature s e9ed,',\n",
       " b'wo da7ing and sweet his t-o!ghtj',\n",
       " b'phis *ther man I had drea(e0',\n",
       " b'e dru+ken, vain-glorious )o!t.',\n",
       " b'le ha! done most bitter w7o:g',\n",
       " b'po so(e who are near my h a&t,',\n",
       " b'}et Ienumber him in the s*n3;',\n",
       " b'le, t*o, has resigned hisep5rt',\n",
       " b'mn th  casual comedy;',\n",
       " b'le, t*o, has been changedei: hi7te46  ',\n",
       " b'prans#ormed utterly:',\n",
       " b'e ter7ible beauty is bornk']"
      ]
     },
     "execution_count": 250,
     "metadata": {},
     "output_type": "execute_result"
    }
   ],
   "source": [
    "decrypted_message"
   ]
  },
  {
   "cell_type": "code",
   "execution_count": 251,
   "id": "344e285c",
   "metadata": {},
   "outputs": [],
   "source": [
    "# adjust the key\n",
    "#'iehave met them at close *ftdah' -> 'i have met them at close of day'\n",
    "\n",
    "message = b'he, too, has been changed in his turn.'\n",
    "for i in range(len(message)):\n",
    "    keys[i] = encrypted_data[37][i] ^ message[i]"
   ]
  },
  {
   "cell_type": "code",
   "execution_count": null,
   "id": "d4c5cb85",
   "metadata": {},
   "outputs": [],
   "source": [
    "decrypted_message = []\n",
    "\n",
    "for message in encrypted_data:\n",
    "    res = []\n",
    "    for i, key in enumerate(keys):\n",
    "        if i < len(message):\n",
    "            res.append(key^(message[i]))\n",
    "    decrypted_message.append(bytes(res))"
   ]
  },
  {
   "cell_type": "code",
   "execution_count": null,
   "id": "6f35c86f",
   "metadata": {},
   "outputs": [
    {
     "data": {
      "text/plain": [
       "[b'i have met them at close of day',\n",
       " b'coming with vivid faces',\n",
       " b'from counter or desk among grey',\n",
       " b'eighteenth-century houses.',\n",
       " b'i have passed with a nod of the head',\n",
       " b'or polite meaningless words,',\n",
       " b'or have lingered awhile and said',\n",
       " b'polite meaningless words,',\n",
       " b'and thought before I had done',\n",
       " b'of a mocking tale or a gibe',\n",
       " b'to please a companion',\n",
       " b'around the fire at the club,',\n",
       " b'being certain that they and I',\n",
       " b'but lived where motley is worn:',\n",
       " b'all changed, changed utterly:',\n",
       " b'a terrible beauty is born.',\n",
       " b\"that woman's days were spent\",\n",
       " b'in ignorant good will,',\n",
       " b'her nights in argument',\n",
       " b'until her voice grew shrill.',\n",
       " b'what voice more sweet than hers',\n",
       " b'when young and beautiful,',\n",
       " b'she rode to harriers?',\n",
       " b'this man had kept a school',\n",
       " b'and rode our winged horse.',\n",
       " b'this other his helper and friend',\n",
       " b'was coming into his force;',\n",
       " b'he might have won fame in the end,',\n",
       " b'so sensitive his nature seemed,',\n",
       " b'so daring and sweet his thought.',\n",
       " b'this other man I had dreamed',\n",
       " b'a drunken, vain-glorious lout.',\n",
       " b'he had done most bitter wrong',\n",
       " b'to some who are near my heart,',\n",
       " b'yet I number him in the song;',\n",
       " b'he, too, has resigned his part',\n",
       " b'in the casual comedy;',\n",
       " b'he, too, has been changed in his turn.',\n",
       " b'transformed utterly:',\n",
       " b'a terrible beauty is born.']"
      ]
     },
     "execution_count": 253,
     "metadata": {},
     "output_type": "execute_result"
    }
   ],
   "source": [
    "decrypted_message"
   ]
  }
 ],
 "metadata": {
  "kernelspec": {
   "display_name": "Python 3",
   "language": "python",
   "name": "python3"
  },
  "language_info": {
   "codemirror_mode": {
    "name": "ipython",
    "version": 3
   },
   "file_extension": ".py",
   "mimetype": "text/x-python",
   "name": "python",
   "nbconvert_exporter": "python",
   "pygments_lexer": "ipython3",
   "version": "3.10.5"
  }
 },
 "nbformat": 4,
 "nbformat_minor": 5
}
