{
 "cells": [
  {
   "cell_type": "code",
   "execution_count": 1,
   "id": "a12e2847",
   "metadata": {},
   "outputs": [],
   "source": [
    "import base64\n",
    "from Crypto.Cipher import AES"
   ]
  },
  {
   "cell_type": "code",
   "execution_count": 2,
   "id": "f1961321",
   "metadata": {},
   "outputs": [],
   "source": [
    "STRING_TO_DECODE = base64.b64decode(b\"L77na/nrFsKvynd6HzOoG7GHTLXsTVu9qvY/2syLXzhPweyyMTJULu/6/kXX0KSvoOLSFQ==\")\n",
    "KEY = b\"YELLOW SUBMARINE\"\n",
    "BLOCK_LENGTH = 16"
   ]
  },
  {
   "cell_type": "code",
   "execution_count": 3,
   "id": "6c9db531",
   "metadata": {},
   "outputs": [],
   "source": [
    "def crypt_CTR(message, key=KEY, block_len=BLOCK_LENGTH):\n",
    "    message_len = len(message)\n",
    "    crypted_message = b\"\"\n",
    "    for i in range((message_len - 1) // block_len + 1):\n",
    "        num = i\n",
    "        nonce = b\"\\x00\" * 8\n",
    "        block_index = num.to_bytes(8, byteorder=\"little\")\n",
    "        cipher = AES.new(key, AES.MODE_ECB)\n",
    "        if i < (message_len - 1) // block_len:\n",
    "            encrypted_block = message[i*block_len:(i+1)*block_len]\n",
    "        else:\n",
    "            encrypted_block = message[i*block_len:]\n",
    "        key_stream = cipher.encrypt(nonce+block_index)\n",
    "        decrypted_block = bytes([c1^c2 for c1, c2 in zip(encrypted_block, key_stream[:len(encrypted_block)])])\n",
    "        crypted_message += decrypted_block\n",
    "    return crypted_message"
   ]
  },
  {
   "cell_type": "code",
   "execution_count": 4,
   "id": "cfcc0268",
   "metadata": {},
   "outputs": [
    {
     "data": {
      "text/plain": [
       "b\"Yo, VIP Let's kick it Ice, Ice, baby Ice, Ice, baby \""
      ]
     },
     "execution_count": 4,
     "metadata": {},
     "output_type": "execute_result"
    }
   ],
   "source": [
    "crypt_CTR(STRING_TO_DECODE)"
   ]
  }
 ],
 "metadata": {
  "kernelspec": {
   "display_name": "Python 3",
   "language": "python",
   "name": "python3"
  },
  "language_info": {
   "codemirror_mode": {
    "name": "ipython",
    "version": 3
   },
   "file_extension": ".py",
   "mimetype": "text/x-python",
   "name": "python",
   "nbconvert_exporter": "python",
   "pygments_lexer": "ipython3",
   "version": "3.10.5"
  }
 },
 "nbformat": 4,
 "nbformat_minor": 5
}
