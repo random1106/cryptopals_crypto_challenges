{
 "cells": [
  {
   "cell_type": "code",
   "execution_count": 379,
   "id": "b2739c44",
   "metadata": {},
   "outputs": [],
   "source": [
    "import base64\n",
    "import secrets\n",
    "import numpy as np\n",
    "from Crypto.Cipher import AES\n",
    "from Crypto.Util.Padding import pad, unpad"
   ]
  },
  {
   "cell_type": "code",
   "execution_count": 380,
   "id": "d88706fe",
   "metadata": {},
   "outputs": [],
   "source": [
    "def generate_random_bytes(bytes_length):\n",
    "    random_bytes = secrets.token_bytes(bytes_length)\n",
    "    return random_bytes\n",
    "\n",
    "BLOCK_LENGTH = 16\n",
    "KEY = generate_random_bytes(BLOCK_LENGTH)\n",
    "IV = generate_random_bytes(BLOCK_LENGTH)"
   ]
  },
  {
   "cell_type": "code",
   "execution_count": 381,
   "id": "ded2dfa5",
   "metadata": {},
   "outputs": [],
   "source": [
    "STRINGS = [b\"MDAwMDAwTm93IHRoYXQgdGhlIHBhcnR5IGlzIGp1bXBpbmc=\",\n",
    "b\"MDAwMDAxV2l0aCB0aGUgYmFzcyBraWNrZWQgaW4gYW5kIHRoZSBWZWdhJ3MgYXJlIHB1bXBpbic=\",\n",
    "b\"MDAwMDAyUXVpY2sgdG8gdGhlIHBvaW50LCB0byB0aGUgcG9pbnQsIG5vIGZha2luZw==\",\n",
    "b\"MDAwMDAzQ29va2luZyBNQydzIGxpa2UgYSBwb3VuZCBvZiBiYWNvbg==\",\n",
    "b\"MDAwMDA0QnVybmluZyAnZW0sIGlmIHlvdSBhaW4ndCBxdWljayBhbmQgbmltYmxl\",\n",
    "b\"MDAwMDA1SSBnbyBjcmF6eSB3aGVuIEkgaGVhciBhIGN5bWJhbA==\",\n",
    "b\"MDAwMDA2QW5kIGEgaGlnaCBoYXQgd2l0aCBhIHNvdXBlZCB1cCB0ZW1wbw==\",\n",
    "b\"MDAwMDA3SSdtIG9uIGEgcm9sbCwgaXQncyB0aW1lIHRvIGdvIHNvbG8=\",\n",
    "b\"MDAwMDA4b2xsaW4nIGluIG15IGZpdmUgcG9pbnQgb2g=\",\n",
    "b\"MDAwMDA5aXRoIG15IHJhZy10b3AgZG93biBzbyBteSBoYWlyIGNhbiBibG93\"]"
   ]
  },
  {
   "cell_type": "code",
   "execution_count": 382,
   "id": "41e5f62f",
   "metadata": {},
   "outputs": [],
   "source": [
    "STRING_TO_ENCODE = np.random.choice(STRINGS)"
   ]
  },
  {
   "cell_type": "code",
   "execution_count": 383,
   "id": "00ef21dc",
   "metadata": {},
   "outputs": [],
   "source": [
    "def encrypt_CBC(message, key=KEY, iv=IV, block_len=BLOCK_LENGTH):\n",
    "    assert len(key) == block_len\n",
    "    padded_message = pad(message, block_len)\n",
    "    n_blocks = len(padded_message) // block_len\n",
    "    message_block = iv\n",
    "    encrypted_message = b\"\"\n",
    "    cipher = AES.new(key, AES.MODE_ECB)\n",
    "    for i in range(n_blocks):\n",
    "        xored_message = bytes([c1^c2 for c1, c2 in zip(padded_message[i*block_len:(i+1)*block_len], message_block)])\n",
    "        message_block = cipher.encrypt(xored_message)\n",
    "        encrypted_message += message_block\n",
    "    return encrypted_message\n",
    "\n",
    "def decrypt_CBC(message, key=KEY, iv=IV, block_len=BLOCK_LENGTH):\n",
    "    assert len(key) == block_len\n",
    "    assert len(message) % block_len == 0\n",
    "    n_blocks = len(message) // block_len\n",
    "    dmessage_block = iv\n",
    "    cipher = AES.new(key, AES.MODE_ECB)\n",
    "    original_message = b\"\"\n",
    "    for i in range(n_blocks):\n",
    "        message_block = message[i*block_len:(i+1)*block_len]\n",
    "        xored_message_block = cipher.decrypt(message_block) \n",
    "        original_message_block = bytes([c1^c2 for c1, c2 in zip(xored_message_block, dmessage_block)])\n",
    "        original_message += original_message_block\n",
    "        dmessage_block = message_block\n",
    "    return original_message\n",
    "\n",
    "def is_encrypted_message_correct_padding(encrypted_message, key=KEY, iv=IV, block_len=BLOCK_LENGTH):\n",
    "    padded_message = decrypt_CBC(encrypted_message, key=key, iv=iv, block_len=block_len)\n",
    "    if not padded_message:\n",
    "        return False\n",
    "    elif padded_message[-1] > 16 or padded_message[-1] < 1:\n",
    "        return False\n",
    "    elif len(padded_message) < padded_message[-1]:\n",
    "        return False\n",
    "    else:\n",
    "        for i in range(padded_message[-1]):\n",
    "            if padded_message[-i-1] != padded_message[-1]:\n",
    "                return False\n",
    "            \n",
    "        if len(padded_message) % block_len != 0:\n",
    "            return False\n",
    "        return True\n",
    "    \n",
    "def attack_padding_oracle(encrypted_message, key=KEY, iv=IV, block_len=BLOCK_LENGTH):\n",
    "    n_blocks = len(encrypted_message) // block_len\n",
    "    res = b\"\"\n",
    "    for block_num in range(n_blocks):\n",
    "        if block_num == 0:\n",
    "            previous_block = IV[:]\n",
    "        else:\n",
    "            previous_block = encrypted_message[(block_num-1)*block_len:block_num*block_len]\n",
    "\n",
    "        target_block = b\"\"\n",
    "        for i in range(1, block_len+1):\n",
    "            to_append = bytes([c^i^previous_block[block_len + k - len(target_block)] for k, c in enumerate(target_block)])\n",
    "            for j in range(256):\n",
    "                # avoid the accident collison with last block which itself is a valid padding\n",
    "                if block_num == n_blocks - 1 and j == previous_block[-1] and i == 1:\n",
    "                    continue\n",
    "                adjusted_block = previous_block[:block_len-i] + bytes([j]) + to_append\n",
    "                if is_encrypted_message_correct_padding(\n",
    "                    encrypted_message[block_num*block_len:(block_num+1)*block_len], key=key, iv=adjusted_block):\n",
    "                    ch = bytes([j^i^previous_block[-i]])\n",
    "                    target_block = ch + target_block\n",
    "                    break\n",
    "        res += target_block\n",
    "\n",
    "    return unpad(res, block_len)"
   ]
  },
  {
   "cell_type": "code",
   "execution_count": 384,
   "id": "905bc287",
   "metadata": {},
   "outputs": [],
   "source": [
    "encrypted_message = encrypt_CBC(STRING_TO_ENCODE)\n",
    "decrypted_message = attack_padding_oracle(encrypted_message)"
   ]
  },
  {
   "cell_type": "code",
   "execution_count": 385,
   "id": "02f31d22",
   "metadata": {},
   "outputs": [
    {
     "name": "stdout",
     "output_type": "stream",
     "text": [
      "original message: b'MDAwMDA0QnVybmluZyAnZW0sIGlmIHlvdSBhaW4ndCBxdWljayBhbmQgbmltYmxl'\n",
      "decrypted message: b'MDAwMDA0QnVybmluZyAnZW0sIGlmIHlvdSBhaW4ndCBxdWljayBhbmQgbmltYmxl'\n"
     ]
    }
   ],
   "source": [
    "print(\"original message:\", STRING_TO_ENCODE)\n",
    "print(\"decrypted message:\", decrypted_message)"
   ]
  }
 ],
 "metadata": {
  "kernelspec": {
   "display_name": "Python 3",
   "language": "python",
   "name": "python3"
  },
  "language_info": {
   "codemirror_mode": {
    "name": "ipython",
    "version": 3
   },
   "file_extension": ".py",
   "mimetype": "text/x-python",
   "name": "python",
   "nbconvert_exporter": "python",
   "pygments_lexer": "ipython3",
   "version": "3.10.5"
  }
 },
 "nbformat": 4,
 "nbformat_minor": 5
}
