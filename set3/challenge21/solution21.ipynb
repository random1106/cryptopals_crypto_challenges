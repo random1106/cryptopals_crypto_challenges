{
 "cells": [
  {
   "cell_type": "code",
   "execution_count": 45,
   "id": "33381349",
   "metadata": {},
   "outputs": [],
   "source": [
    "import numpy as np\n",
    "import matplotlib.pyplot as plt"
   ]
  },
  {
   "cell_type": "code",
   "execution_count": 46,
   "id": "d632d17a",
   "metadata": {},
   "outputs": [],
   "source": [
    "class MT19937:\n",
    "\n",
    "    n = 624\n",
    "    m = 397\n",
    "    w = 32\n",
    "    r = 31\n",
    "    UMASK = 0xffffffff << r\n",
    "    LMASK = 0xffffffff >> (w-r)\n",
    "    a = 0x9908b0df\n",
    "    u = 11\n",
    "    s = 7\n",
    "    t = 15\n",
    "    l = 18\n",
    "    b = 0x9d2c5680\n",
    "    c = 0xefc60000\n",
    "    f = 1812433253\n",
    "\n",
    "    def __init__(self, seed):\n",
    "        self.seed = seed & ((1 << self.w) - 1)\n",
    "        self.state_array = [0] * self.n\n",
    "        self.state_index = 0\n",
    "\n",
    "# state = {\"state_array\":[0]*n, \"state_index\":0}\n",
    "\n",
    "    def initialize_state(self):\n",
    "        self.state_array[0] = self.seed\n",
    "        for i in range(1, self.n):\n",
    "            self.seed = (self.f * (self.seed ^ (self.seed >> self.w-2)) + i) & ((1 << self.w) - 1)\n",
    "            self.state_array[i] = self.seed\n",
    "\n",
    "        self.state_index = 0\n",
    "\n",
    "    def twister(self):\n",
    "        k = self.state_index\n",
    "\n",
    "        j = k - (self.n-1)\n",
    "        if j < 0:\n",
    "            j += self.n\n",
    "\n",
    "        x = ((self.state_array[k] & self.UMASK) | (self.state_array[j] & self.LMASK)) & ((1 << self.w) - 1)\n",
    "\n",
    "        xA = x >> 1\n",
    "        if (x & 0x00000001):\n",
    "            xA ^= self.a\n",
    "\n",
    "        j = k - (self.n - self.m)\n",
    "        if j < 0:\n",
    "            j += self.n \n",
    "\n",
    "        x = self.state_array[j] ^ xA\n",
    "        self.state_array[k] = x\n",
    "        k += 1\n",
    "\n",
    "        if (k >= self.n):\n",
    "            k = 0\n",
    "        \n",
    "        self.state_index = k\n",
    "\n",
    "        return x\n",
    "\n",
    "    def temper(self):\n",
    "        x = self.twister()\n",
    "        y = (x^(x >> self.u)) & ((1 << self.w) - 1)\n",
    "        y = (y ^ ((y << self.s) & self.b)) & ((1 << self.w) - 1)\n",
    "        y = (y ^ ((y << self.t) & self.c)) & ((1 << self.w) - 1)\n",
    "        z = y ^ (y >> self.l)\n",
    "\n",
    "        return z"
   ]
  },
  {
   "cell_type": "code",
   "execution_count": 47,
   "id": "716d100a",
   "metadata": {},
   "outputs": [],
   "source": [
    "RNG = MT19937(seed=19650218)\n",
    "RNG.initialize_state()"
   ]
  },
  {
   "cell_type": "code",
   "execution_count": 51,
   "id": "7ecc464d",
   "metadata": {},
   "outputs": [
    {
     "data": {
      "text/plain": [
       "3872387439"
      ]
     },
     "execution_count": 51,
     "metadata": {},
     "output_type": "execute_result"
    }
   ],
   "source": [
    "RNG.temper()"
   ]
  }
 ],
 "metadata": {
  "kernelspec": {
   "display_name": "Python 3",
   "language": "python",
   "name": "python3"
  },
  "language_info": {
   "codemirror_mode": {
    "name": "ipython",
    "version": 3
   },
   "file_extension": ".py",
   "mimetype": "text/x-python",
   "name": "python",
   "nbconvert_exporter": "python",
   "pygments_lexer": "ipython3",
   "version": "3.10.5"
  }
 },
 "nbformat": 4,
 "nbformat_minor": 5
}
