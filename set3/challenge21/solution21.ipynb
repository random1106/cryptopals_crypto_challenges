{
 "cells": [
  {
   "cell_type": "code",
   "execution_count": 171,
   "id": "33381349",
   "metadata": {},
   "outputs": [],
   "source": [
    "import numpy as np\n",
    "import matplotlib.pyplot as plt"
   ]
  },
  {
   "cell_type": "code",
   "execution_count": 172,
   "id": "5401a21e",
   "metadata": {},
   "outputs": [],
   "source": [
    "# constants\n",
    "\n",
    "n = 624\n",
    "m = 397\n",
    "w = 32\n",
    "r = 31\n",
    "UMASK = 0xffffffff << r\n",
    "LMASK = 0xffffffff >> (w-r)\n",
    "a = 0x9908b0df\n",
    "u = 11\n",
    "s = 7\n",
    "t = 15\n",
    "l = 18\n",
    "b = 0x9d2c5680\n",
    "c = 0xefc60000\n",
    "f = 1812433253"
   ]
  },
  {
   "cell_type": "code",
   "execution_count": 173,
   "id": "d632d17a",
   "metadata": {},
   "outputs": [],
   "source": [
    "state = {\"state_array\":[0]*n, \"state_index\":0}\n",
    "\n",
    "def initialize_state(seed=19650218):\n",
    "    state[\"state_array\"][0] = seed\n",
    "    for i in range(1, n):\n",
    "        seed = (f * (seed ^ (seed >> w-2)) + i) & ((1 << w) - 1)\n",
    "        state[\"state_array\"][i] = seed\n",
    "\n",
    "    state[\"state_index\"] = 0\n",
    "\n",
    "def twister():\n",
    "    state_array = state[\"state_array\"]\n",
    "    k = state[\"state_index\"]\n",
    "\n",
    "    j = k - (n-1)\n",
    "    if j < 0:\n",
    "        j += n\n",
    "\n",
    "    x = ((state_array[k] & UMASK) | (state_array[j] & LMASK)) & ((1 << w) - 1)\n",
    "\n",
    "    xA = x >> 1\n",
    "    if (x & 0x00000001):\n",
    "        xA ^= a\n",
    "\n",
    "    j = k - (n - m)\n",
    "    if j < 0:\n",
    "        j += n \n",
    "\n",
    "    x = state_array[j] ^ xA\n",
    "    state_array[k] = x\n",
    "    k += 1\n",
    "\n",
    "    if (k >= n):\n",
    "        k = 0\n",
    "    \n",
    "    state[\"state_index\"] = k\n",
    "\n",
    "    return x\n",
    "\n",
    "def temper():\n",
    "    x = twister()\n",
    "    y = (x^(x >> u)) & ((1 << w) - 1)\n",
    "    y = (y ^ ((y << s) & b)) & ((1 << w) - 1)\n",
    "    y = (y ^ ((y << t) & c)) & ((1 << w) - 1)\n",
    "    z = y ^ (y >> l)\n",
    "\n",
    "    return z"
   ]
  },
  {
   "cell_type": "code",
   "execution_count": 178,
   "id": "716d100a",
   "metadata": {},
   "outputs": [],
   "source": [
    "initialize_state()"
   ]
  },
  {
   "cell_type": "code",
   "execution_count": null,
   "id": "4f745603",
   "metadata": {},
   "outputs": [
    {
     "data": {
      "text/plain": [
       "2325592414"
      ]
     },
     "execution_count": 179,
     "metadata": {},
     "output_type": "execute_result"
    }
   ],
   "source": [
    "# run temper function to generate random number\n",
    "\n",
    "temper()"
   ]
  }
 ],
 "metadata": {
  "kernelspec": {
   "display_name": "Python 3",
   "language": "python",
   "name": "python3"
  },
  "language_info": {
   "codemirror_mode": {
    "name": "ipython",
    "version": 3
   },
   "file_extension": ".py",
   "mimetype": "text/x-python",
   "name": "python",
   "nbconvert_exporter": "python",
   "pygments_lexer": "ipython3",
   "version": "3.10.5"
  }
 },
 "nbformat": 4,
 "nbformat_minor": 5
}
