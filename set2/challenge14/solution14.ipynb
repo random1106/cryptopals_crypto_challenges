{
 "cells": [
  {
   "cell_type": "code",
   "execution_count": 138,
   "id": "c0c28cab",
   "metadata": {},
   "outputs": [],
   "source": [
    "import base64\n",
    "import secrets\n",
    "import numpy as np\n",
    "from Crypto.Cipher import AES\n",
    "from Crypto.Util.Padding import pad"
   ]
  },
  {
   "cell_type": "code",
   "execution_count": 139,
   "id": "8bae2e60",
   "metadata": {},
   "outputs": [],
   "source": [
    "def base64decode(raw_message):  \n",
    "    message = base64.b64decode(raw_message)\n",
    "    return message\n",
    "\n",
    "def generate_random_bytes(bytes_length):\n",
    "    random_bytes = secrets.token_bytes(bytes_length)\n",
    "    return random_bytes\n",
    "\n",
    "BLOCK_LENGTH = 16\n",
    "RANDOM_NUMBER = np.random.randint(5, 20)\n",
    "RANDOM_PREDIX = generate_random_bytes(RANDOM_NUMBER)\n",
    "\n",
    "UNKNOWN_MESSAGE_B64ENCODED = b\"Um9sbGluJyBpbiBteSA1LjAKV2l0aCBteSByYWctdG9wIGRvd24gc28gbXkgaGFpciBjYW4gYmxvdwpUaGUgZ2lybGllcyBvbiBzdGFuZGJ5IHdhdmluZyBqdXN0IHRvIHNheSBoaQpEaWQgeW91IHN0b3A/IE5vLCBJIGp1c3QgZHJvdmUgYnkK\"\n",
    "UNKNOWN_MESSAGE = base64decode(UNKNOWN_MESSAGE_B64ENCODED)\n",
    "KEY = generate_random_bytes(BLOCK_LENGTH)"
   ]
  },
  {
   "cell_type": "code",
   "execution_count": 140,
   "id": "32c2522d",
   "metadata": {},
   "outputs": [],
   "source": [
    "def encrypt_ECB(message):\n",
    "    assert len(KEY) == BLOCK_LENGTH\n",
    "    padded_message = pad(RANDOM_PREDIX + message + UNKNOWN_MESSAGE, BLOCK_LENGTH)\n",
    "    cipher = AES.new(KEY, AES.MODE_ECB)\n",
    "    encrypted_message = cipher.encrypt(padded_message) \n",
    "    return encrypted_message\n",
    "\n",
    "def find_repeat_start_location():\n",
    "    message = encrypt_ECB(b\"A\"*(BLOCK_LENGTH*3))\n",
    "    for i in range(len(message) - 2*BLOCK_LENGTH):\n",
    "        if message[i:i+BLOCK_LENGTH] == message[i+BLOCK_LENGTH:i+2*BLOCK_LENGTH]:\n",
    "            return i\n",
    "\n",
    "def find_input_location():\n",
    "    loc = find_repeat_start_location()\n",
    "    start_length = BLOCK_LENGTH * 3\n",
    "    while start_length > 0:\n",
    "        message = encrypt_ECB(b\"A\"*(start_length))\n",
    "        if message[loc:loc+BLOCK_LENGTH] == message[loc+BLOCK_LENGTH:loc+2*BLOCK_LENGTH]:\n",
    "            start_length -= 1\n",
    "        else:\n",
    "            break\n",
    "    return start_length"
   ]
  },
  {
   "cell_type": "code",
   "execution_count": 141,
   "id": "2a823be6",
   "metadata": {},
   "outputs": [
    {
     "data": {
      "text/plain": [
       "16"
      ]
     },
     "execution_count": 141,
     "metadata": {},
     "output_type": "execute_result"
    }
   ],
   "source": [
    "find_repeat_start_location()"
   ]
  },
  {
   "cell_type": "code",
   "execution_count": 142,
   "id": "ee1b4bdc",
   "metadata": {},
   "outputs": [],
   "source": [
    "PREFIX_TO_MESSAGE = b\"A\" * ((find_input_location() +1) % BLOCK_LENGTH)\n",
    "OFFSET = find_repeat_start_location() // BLOCK_LENGTH"
   ]
  },
  {
   "cell_type": "code",
   "execution_count": 143,
   "id": "c0290b65",
   "metadata": {},
   "outputs": [],
   "source": [
    "def get_unknown_string_length(prefix=b\"\"):\n",
    "    unknown_string_length_approx = len(encrypt_ECB(prefix))\n",
    "    unknown_string_length = unknown_string_length_approx - 1 - find_repeat_start_location()\n",
    "    for i in range(1, BLOCK_LENGTH):\n",
    "        unknown_string_length_test = len(encrypt_ECB(prefix + b\"A\"*i))\n",
    "        if unknown_string_length_test == unknown_string_length_approx:\n",
    "            unknown_string_length -= 1\n",
    "            if i == BLOCK_LENGTH - 1:\n",
    "                unknown_string_length += BLOCK_LENGTH\n",
    "        else:\n",
    "            return unknown_string_length\n",
    "            \n",
    "def decrypt_unknown_string(prefix=b\"\", offset=0):\n",
    "    unknown_string_length = get_unknown_string_length(prefix)\n",
    "    n_blocks = unknown_string_length // BLOCK_LENGTH \n",
    "    buffer_string = b\"A\" * BLOCK_LENGTH\n",
    "    unknown_string = b\"\" \n",
    "    for i in range(n_blocks+1):  \n",
    "        for j in range(BLOCK_LENGTH):\n",
    "            if i * BLOCK_LENGTH + j >= unknown_string_length:\n",
    "                break\n",
    "            message = buffer_string[j+1:]\n",
    "            original_encrypted_message = encrypt_ECB(prefix+message)\n",
    "            for k in range(256):\n",
    "                l_unknown_string = len(unknown_string)\n",
    "                test_message = message + unknown_string[l_unknown_string-j:] + bytes([k])\n",
    "                test_encypted_message =  encrypt_ECB(prefix+test_message)\n",
    "                if test_encypted_message[offset*BLOCK_LENGTH:(offset+1)*BLOCK_LENGTH] == original_encrypted_message[(i+offset)*BLOCK_LENGTH:(i+offset+1)*BLOCK_LENGTH]:\n",
    "                    unknown_string = unknown_string + bytes([k])\n",
    "                    break\n",
    "        buffer_string = unknown_string[-BLOCK_LENGTH:]\n",
    "    return unknown_string"
   ]
  },
  {
   "cell_type": "code",
   "execution_count": 144,
   "id": "bb80bd59",
   "metadata": {},
   "outputs": [
    {
     "name": "stdout",
     "output_type": "stream",
     "text": [
      "Rollin' in my 5.0\n",
      "With my rag-top down so my hair can blow\n",
      "The girlies on standby waving just to say hi\n",
      "Did you stop? No, I just drove by\n",
      "\n"
     ]
    }
   ],
   "source": [
    "print(decrypt_unknown_string(prefix=PREFIX_TO_MESSAGE, offset=OFFSET).decode())"
   ]
  }
 ],
 "metadata": {
  "kernelspec": {
   "display_name": "Python 3",
   "language": "python",
   "name": "python3"
  },
  "language_info": {
   "codemirror_mode": {
    "name": "ipython",
    "version": 3
   },
   "file_extension": ".py",
   "mimetype": "text/x-python",
   "name": "python",
   "nbconvert_exporter": "python",
   "pygments_lexer": "ipython3",
   "version": "3.10.5"
  }
 },
 "nbformat": 4,
 "nbformat_minor": 5
}
