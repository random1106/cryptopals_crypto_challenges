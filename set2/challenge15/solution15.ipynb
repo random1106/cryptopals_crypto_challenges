{
 "cells": [
  {
   "cell_type": "code",
   "execution_count": 13,
   "id": "13c4a17e",
   "metadata": {},
   "outputs": [],
   "source": [
    "class BadPaddingError(Exception):\n",
    "    pass\n",
    "\n",
    "def is_correct_padding(padded_message, block_len):\n",
    "    if not padded_message:\n",
    "        raise BadPaddingError()\n",
    "    elif padded_message[-1] > 16 or padded_message[-1] < 1:\n",
    "        raise BadPaddingError()\n",
    "    elif len(padded_message) < padded_message[-1]:\n",
    "        raise BadPaddingError()\n",
    "    else:\n",
    "        for i in range(padded_message[-1]):\n",
    "            if padded_message[-i-1] != padded_message[-1]:\n",
    "                raise BadPaddingError()\n",
    "            \n",
    "        if len(padded_message) % block_len != 0:\n",
    "            raise BadPaddingError()\n",
    "        \n",
    "        return True\n",
    "        "
   ]
  },
  {
   "cell_type": "code",
   "execution_count": null,
   "id": "80a1ce25",
   "metadata": {},
   "outputs": [],
   "source": [
    "CORRECT_PADDING = b\"ICE ICE BABY\\x04\\x04\\x04\\x04\"\n",
    "INCORRECT_PADDING1 = b\"ICE ICE BABY\\x05\\x05\\x05\\x05\"\n",
    "INCORRECT_PADDING2 = b\"ICE ICE BABY\\x01\\x02\\x03\\x04\"\n",
    "BLOCK_LENGTH = 16\n",
    "\n",
    "print(is_correct_padding(CORRECT_PADDING, block_len=BLOCK_LENGTH))\n",
    "print(is_correct_padding(INCORRECT_PADDING1, block_len=BLOCK_LENGTH))\n",
    "print(is_correct_padding(INCORRECT_PADDING2, block_len=BLOCK_LENGTH))"
   ]
  }
 ],
 "metadata": {
  "kernelspec": {
   "display_name": "Python 3",
   "language": "python",
   "name": "python3"
  },
  "language_info": {
   "codemirror_mode": {
    "name": "ipython",
    "version": 3
   },
   "file_extension": ".py",
   "mimetype": "text/x-python",
   "name": "python",
   "nbconvert_exporter": "python",
   "pygments_lexer": "ipython3",
   "version": "3.10.5"
  }
 },
 "nbformat": 4,
 "nbformat_minor": 5
}
