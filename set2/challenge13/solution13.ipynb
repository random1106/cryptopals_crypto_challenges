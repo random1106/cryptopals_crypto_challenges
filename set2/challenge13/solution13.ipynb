{
 "cells": [
  {
   "cell_type": "code",
   "execution_count": 40,
   "id": "1f534444",
   "metadata": {},
   "outputs": [],
   "source": [
    "import base64\n",
    "import secrets\n",
    "import numpy as np\n",
    "from Crypto.Cipher import AES\n",
    "from Crypto.Util.Padding import pad, unpad"
   ]
  },
  {
   "cell_type": "code",
   "execution_count": 41,
   "id": "81b67831",
   "metadata": {},
   "outputs": [],
   "source": [
    "def parse_to_dict(data):\n",
    "    data_splits = [data_block.split(b\"=\") for data_block in data.split(b\"&\")]\n",
    "    encoded_data = {data_split[0]:data_split[1] for data_split in data_splits}\n",
    "    return encoded_data"
   ]
  },
  {
   "cell_type": "code",
   "execution_count": 42,
   "id": "15d48b29",
   "metadata": {},
   "outputs": [
    {
     "name": "stdout",
     "output_type": "stream",
     "text": [
      "The encoded data is {b'foo': b'bar', b'baz': b'qux', b'zap': b'zazzle'}\n"
     ]
    }
   ],
   "source": [
    "test_data = b\"foo=bar&baz=qux&zap=zazzle\"\n",
    "print(\"The encoded data is\", parse_to_dict(test_data))"
   ]
  },
  {
   "cell_type": "code",
   "execution_count": 43,
   "id": "9fe377ab",
   "metadata": {},
   "outputs": [],
   "source": [
    "BLOCK_LENGTH = 16"
   ]
  },
  {
   "cell_type": "code",
   "execution_count": 44,
   "id": "ae280670",
   "metadata": {},
   "outputs": [],
   "source": [
    "def generate_random_bytes(bytes_length):\n",
    "    random_bytes = secrets.token_bytes(bytes_length)\n",
    "    return random_bytes\n",
    "\n",
    "def reject_input(data):\n",
    "    if b\"&\" in data or b\"=\" in data:\n",
    "        return False\n",
    "    else:\n",
    "        return True\n",
    "    \n",
    "def encode_profile(email):\n",
    "    assert reject_input(email) \n",
    "    parsed_profile = b\"email=\" + email + b\"&uid=10&role=user\"\n",
    "    return parsed_profile\n",
    "    \n",
    "def profile_for(email):    \n",
    "    parsed_profile = encode_profile(email)\n",
    "    return parse_to_dict(parsed_profile)"
   ]
  },
  {
   "cell_type": "code",
   "execution_count": 45,
   "id": "309b5a83",
   "metadata": {},
   "outputs": [],
   "source": [
    "KEY = generate_random_bytes(BLOCK_LENGTH)\n",
    "\n",
    "def encrypt_ECB(email):\n",
    "    message= encode_profile(email) \n",
    "    cipher = AES.new(KEY, AES.MODE_ECB)\n",
    "    return cipher.encrypt(pad(message, BLOCK_LENGTH))\n",
    "\n",
    "def parse_from_dict(message):\n",
    "    res = []\n",
    "    for key, value in message:\n",
    "        res.append(\"key\"+b\"=\"+\"value\")\n",
    "        return \"&\".join(res)\n",
    "\n",
    "def decrypt(encrypted_message):\n",
    "    cipher = AES.new(KEY, AES.MODE_ECB)\n",
    "    decrypted_message = unpad(cipher.decrypt(encrypted_message), BLOCK_LENGTH)\n",
    "    return decrypted_message"
   ]
  },
  {
   "cell_type": "code",
   "execution_count": 46,
   "id": "d0246a81",
   "metadata": {},
   "outputs": [],
   "source": [
    "def find_repeat_start_location():\n",
    "    message = encrypt_ECB(b\"A\"*(BLOCK_LENGTH*3))\n",
    "    for i in range(len(message) - 2*BLOCK_LENGTH):\n",
    "        if message[i:i+BLOCK_LENGTH] == message[i+BLOCK_LENGTH:i+2*BLOCK_LENGTH]:\n",
    "            return i\n",
    "\n",
    "def find_input_location():\n",
    "    loc = find_repeat_start_location()\n",
    "    start_length = BLOCK_LENGTH * 3\n",
    "    while start_length > 0:\n",
    "        message = encrypt_ECB(b\"A\"*(start_length))\n",
    "        if message[loc:loc+BLOCK_LENGTH] == message[loc+BLOCK_LENGTH:loc+2*BLOCK_LENGTH]:\n",
    "            start_length -= 1\n",
    "        else:\n",
    "            break\n",
    "    return start_length"
   ]
  },
  {
   "cell_type": "code",
   "execution_count": 47,
   "id": "5137b78c",
   "metadata": {},
   "outputs": [],
   "source": [
    "location_idx = find_input_location()\n",
    "n_As = location_idx + 1 - BLOCK_LENGTH\n",
    "MESSAGE_PIECE1 = encrypt_ECB(b\"max@gmail.\")[:BLOCK_LENGTH]                      # product \"email=max@gmail.\"\n",
    "MESSAGE_PIECE2 = encrypt_ECB(b\"A\"*(n_As) + b\"com\")[2*BLOCK_LENGTH:3*BLOCK_LENGTH] # produce \"com&uid=10&role=\"\n",
    "MESSAGE_PIECE3 = encrypt_ECB(b\"A\"*n_As + b\"admin\" + b\"\\x0b\"*11)[2*BLOCK_LENGTH:3*BLOCK_LENGTH] # produce \"admin\\x0b\\x0b\\x0b\\x0b\\x0b\\x0b\""
   ]
  },
  {
   "cell_type": "code",
   "execution_count": 48,
   "id": "a44bf9fc",
   "metadata": {},
   "outputs": [
    {
     "data": {
      "text/plain": [
       "b'email=max@gmail.com&uid=10&role=admin'"
      ]
     },
     "execution_count": 48,
     "metadata": {},
     "output_type": "execute_result"
    }
   ],
   "source": [
    "FORGED_MESSAGE = MESSAGE_PIECE1 + MESSAGE_PIECE2 + MESSAGE_PIECE3\n",
    "decrypt(FORGED_MESSAGE)"
   ]
  }
 ],
 "metadata": {
  "kernelspec": {
   "display_name": "Python 3",
   "language": "python",
   "name": "python3"
  },
  "language_info": {
   "codemirror_mode": {
    "name": "ipython",
    "version": 3
   },
   "file_extension": ".py",
   "mimetype": "text/x-python",
   "name": "python",
   "nbconvert_exporter": "python",
   "pygments_lexer": "ipython3",
   "version": "3.10.5"
  }
 },
 "nbformat": 4,
 "nbformat_minor": 5
}
