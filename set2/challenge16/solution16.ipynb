{
 "cells": [
  {
   "cell_type": "code",
   "execution_count": 174,
   "id": "576c0b85",
   "metadata": {},
   "outputs": [],
   "source": [
    "import base64\n",
    "import secrets\n",
    "import numpy as np\n",
    "from Crypto.Cipher import AES\n",
    "from Crypto.Util.Padding import pad"
   ]
  },
  {
   "cell_type": "code",
   "execution_count": 175,
   "id": "30e095c8",
   "metadata": {},
   "outputs": [],
   "source": [
    "def generate_random_bytes(bytes_length):\n",
    "    random_bytes = secrets.token_bytes(bytes_length)\n",
    "    return random_bytes"
   ]
  },
  {
   "cell_type": "code",
   "execution_count": 176,
   "id": "dcf759f4",
   "metadata": {},
   "outputs": [],
   "source": [
    "STRING_TO_PREPEND = b\"comment1=cooking%20MCs;userdata=\"\n",
    "STRING_TO_APPEND = b\";comment2=%20like%20a%20pound%20of%20bacon\"\n",
    "BLOCK_LENGTH = 16\n",
    "KEY = generate_random_bytes(BLOCK_LENGTH)\n",
    "IV = generate_random_bytes(BLOCK_LENGTH)\n",
    "STRING_ADMIN = b\";admin=true;\""
   ]
  },
  {
   "cell_type": "code",
   "execution_count": 177,
   "id": "7442458c",
   "metadata": {},
   "outputs": [],
   "source": [
    "def filter(message):\n",
    "    res = []\n",
    "    for i in range(len(message)):\n",
    "        if message[i:i+1] == b\";\":\n",
    "            res.append(b\"%3B\")\n",
    "        elif message[i:i+1] == b\"=\":\n",
    "            res.append(b\"%3D\")\n",
    "        else:\n",
    "            res.append(message[i:i+1])\n",
    "    return b\"\".join(res)\n",
    "\n",
    "# encrypt with padding first\n",
    "def encrypt_CBC(message, key=KEY, iv=IV, block_len=BLOCK_LENGTH):\n",
    "    assert len(key) == block_len\n",
    "    padded_message = pad(STRING_TO_PREPEND + message + STRING_TO_APPEND, block_len)\n",
    "    n_blocks = len(padded_message) // block_len\n",
    "    message_block = iv\n",
    "    encrypted_message = b\"\"\n",
    "    cipher = AES.new(key, AES.MODE_ECB)\n",
    "    for i in range(n_blocks):\n",
    "        xored_message = bytes([c1^c2 for c1, c2 in zip(padded_message[i*block_len:(i+1)*block_len], message_block)])\n",
    "        message_block = cipher.encrypt(xored_message)\n",
    "        encrypted_message += message_block\n",
    "    return encrypted_message\n",
    "\n",
    "def decrypt_CBC(message, key=KEY, iv=IV, block_len=BLOCK_LENGTH):\n",
    "    assert len(key) == block_len\n",
    "    assert len(message) % block_len == 0\n",
    "    n_blocks = len(message) // block_len\n",
    "    dmessage_block = iv\n",
    "    cipher = AES.new(key, AES.MODE_ECB)\n",
    "    original_message = b\"\"\n",
    "    for i in range(n_blocks):\n",
    "        message_block = message[i*block_len:(i+1)*block_len]\n",
    "        xored_message_block = cipher.decrypt(message_block) \n",
    "        original_message_block = bytes([c1^c2 for c1, c2 in zip(xored_message_block, dmessage_block)])\n",
    "        original_message += original_message_block\n",
    "        dmessage_block = message_block\n",
    "    return original_message\n",
    "\n",
    "def find_common_block_num(message1, message2):\n",
    "    start = 0\n",
    "    num = 0\n",
    "    while start * BLOCK_LENGTH < min(len(message1), len(message2)):\n",
    "        if message1[start * BLOCK_LENGTH:(start+1) * BLOCK_LENGTH] == message2[start * BLOCK_LENGTH:(start+1) * BLOCK_LENGTH]:\n",
    "             num += 1\n",
    "             start += 1\n",
    "        else:\n",
    "            break\n",
    "    return num\n",
    "         \n",
    "def find_input_start_location():\n",
    "    n_common = find_common_block_num(encrypt_CBC(b\"\"), encrypt_CBC(b\"A\"))\n",
    "    for i in range(1, BLOCK_LENGTH+1):\n",
    "        n_common_update = find_common_block_num(encrypt_CBC(b\"A\"*i), encrypt_CBC(b\"A\"*(i+1)))\n",
    "        if n_common_update == n_common + 1:\n",
    "            break\n",
    "    return n_common * BLOCK_LENGTH + BLOCK_LENGTH - i     \n",
    "\n",
    "def verify_admin(encrypted_message):\n",
    "    decrypted_message = decrypt_CBC(encrypted_message)\n",
    "    if STRING_ADMIN in decrypted_message:\n",
    "        return True\n",
    "    else:\n",
    "        return False"
   ]
  },
  {
   "cell_type": "code",
   "execution_count": 178,
   "id": "e269aa5a",
   "metadata": {},
   "outputs": [
    {
     "data": {
      "text/plain": [
       "b';admin=true;'"
      ]
     },
     "execution_count": 178,
     "metadata": {},
     "output_type": "execute_result"
    }
   ],
   "source": [
    "STRING_ADMIN"
   ]
  },
  {
   "cell_type": "code",
   "execution_count": 179,
   "id": "2e71fe93",
   "metadata": {},
   "outputs": [
    {
     "data": {
      "text/plain": [
       "32"
      ]
     },
     "execution_count": 179,
     "metadata": {},
     "output_type": "execute_result"
    }
   ],
   "source": [
    "find_input_start_location()"
   ]
  },
  {
   "cell_type": "code",
   "execution_count": 180,
   "id": "059d332b",
   "metadata": {},
   "outputs": [],
   "source": [
    "message1 = encrypt_CBC(b\"\")[BLOCK_LENGTH:2*BLOCK_LENGTH]\n",
    "message2 = b\";admin=true;\" + b\"aaaa\"\n",
    "message = bytes([s1^s2 for (s1, s2) in zip(message1, message2)])\n",
    "encrypted_message = encrypt_CBC(message)[2*BLOCK_LENGTH:3*BLOCK_LENGTH]"
   ]
  },
  {
   "cell_type": "code",
   "execution_count": 181,
   "id": "285dd7d1",
   "metadata": {},
   "outputs": [
    {
     "data": {
      "text/plain": [
       "True"
      ]
     },
     "execution_count": 181,
     "metadata": {},
     "output_type": "execute_result"
    }
   ],
   "source": [
    "crafted_message = b\"\\x00\" * 16 + encrypted_message\n",
    "verify_admin(crafted_message) "
   ]
  }
 ],
 "metadata": {
  "kernelspec": {
   "display_name": "Python 3",
   "language": "python",
   "name": "python3"
  },
  "language_info": {
   "codemirror_mode": {
    "name": "ipython",
    "version": 3
   },
   "file_extension": ".py",
   "mimetype": "text/x-python",
   "name": "python",
   "nbconvert_exporter": "python",
   "pygments_lexer": "ipython3",
   "version": "3.10.5"
  }
 },
 "nbformat": 4,
 "nbformat_minor": 5
}
