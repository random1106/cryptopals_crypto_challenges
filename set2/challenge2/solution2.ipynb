{
 "cells": [
  {
   "cell_type": "code",
   "execution_count": null,
   "id": "5caaae77",
   "metadata": {},
   "outputs": [
    {
     "ename": "ValueError",
     "evalue": "Data must be aligned to block boundary in ECB mode",
     "output_type": "error",
     "traceback": [
      "\u001b[1;31m---------------------------------------------------------------------------\u001b[0m",
      "\u001b[1;31mValueError\u001b[0m                                Traceback (most recent call last)",
      "Cell \u001b[1;32mIn[11], line 6\u001b[0m\n\u001b[0;32m      4\u001b[0m plaintext \u001b[38;5;241m=\u001b[39m \u001b[38;5;124m'\u001b[39m\u001b[38;5;124mAttack at dawn!hAttack at dawn!h=\u001b[39m\u001b[38;5;124m'\u001b[39m\u001b[38;5;241m.\u001b[39mencode(\u001b[38;5;124m\"\u001b[39m\u001b[38;5;124mutf-8\u001b[39m\u001b[38;5;124m\"\u001b[39m)\n\u001b[0;32m      5\u001b[0m obj \u001b[38;5;241m=\u001b[39m AES\u001b[38;5;241m.\u001b[39mnew(\u001b[38;5;124m\"\u001b[39m\u001b[38;5;124myellow submarine\u001b[39m\u001b[38;5;124m\"\u001b[39m\u001b[38;5;241m.\u001b[39mencode(\u001b[38;5;124m\"\u001b[39m\u001b[38;5;124mutf-8\u001b[39m\u001b[38;5;124m\"\u001b[39m), AES\u001b[38;5;241m.\u001b[39mMODE_ECB)\n\u001b[1;32m----> 6\u001b[0m ciphertext \u001b[38;5;241m=\u001b[39m \u001b[43mobj\u001b[49m\u001b[38;5;241;43m.\u001b[39;49m\u001b[43mencrypt\u001b[49m\u001b[43m(\u001b[49m\u001b[43mplaintext\u001b[49m\u001b[43m)\u001b[49m\n\u001b[0;32m      8\u001b[0m \u001b[38;5;28mprint\u001b[39m(b64encode(ciphertext)\u001b[38;5;241m.\u001b[39mdecode())\n",
      "File \u001b[1;32mc:\\Users\\lye01\\AppData\\Local\\Programs\\Python\\Python310\\lib\\site-packages\\Crypto\\Cipher\\_mode_ecb.py:141\u001b[0m, in \u001b[0;36mEcbMode.encrypt\u001b[1;34m(self, plaintext, output)\u001b[0m\n\u001b[0;32m    139\u001b[0m \u001b[38;5;28;01mif\u001b[39;00m result:\n\u001b[0;32m    140\u001b[0m     \u001b[38;5;28;01mif\u001b[39;00m result \u001b[38;5;241m==\u001b[39m \u001b[38;5;241m3\u001b[39m:\n\u001b[1;32m--> 141\u001b[0m         \u001b[38;5;28;01mraise\u001b[39;00m \u001b[38;5;167;01mValueError\u001b[39;00m(\u001b[38;5;124m\"\u001b[39m\u001b[38;5;124mData must be aligned to block boundary in ECB mode\u001b[39m\u001b[38;5;124m\"\u001b[39m)\n\u001b[0;32m    142\u001b[0m     \u001b[38;5;28;01mraise\u001b[39;00m \u001b[38;5;167;01mValueError\u001b[39;00m(\u001b[38;5;124m\"\u001b[39m\u001b[38;5;124mError \u001b[39m\u001b[38;5;132;01m%d\u001b[39;00m\u001b[38;5;124m while encrypting in ECB mode\u001b[39m\u001b[38;5;124m\"\u001b[39m \u001b[38;5;241m%\u001b[39m result)\n\u001b[0;32m    144\u001b[0m \u001b[38;5;28;01mif\u001b[39;00m output \u001b[38;5;129;01mis\u001b[39;00m \u001b[38;5;28;01mNone\u001b[39;00m:\n",
      "\u001b[1;31mValueError\u001b[0m: Data must be aligned to block boundary in ECB mode"
     ]
    }
   ],
   "source": [
    "from Crypto.Cipher import AES\n",
    "from base64 import b64encode\n",
    "\n",
    "plaintext = 'Attack at dawn!hAttack at dawn!h'.encode(\"utf-8\")\n",
    "obj = AES.new(\"yellow submarine\".encode(\"utf-8\"), AES.MODE_ECB)\n",
    "ciphertext = obj.encrypt(plaintext)\n",
    "\n",
    "print(b64encode(ciphertext).decode())"
   ]
  },
  {
   "cell_type": "code",
   "execution_count": 5,
   "id": "c74d3185",
   "metadata": {},
   "outputs": [
    {
     "data": {
      "text/plain": [
       "16"
      ]
     },
     "execution_count": 5,
     "metadata": {},
     "output_type": "execute_result"
    }
   ],
   "source": [
    "len(\"Attack at dawn!!\")"
   ]
  }
 ],
 "metadata": {
  "kernelspec": {
   "display_name": "Python 3",
   "language": "python",
   "name": "python3"
  },
  "language_info": {
   "codemirror_mode": {
    "name": "ipython",
    "version": 3
   },
   "file_extension": ".py",
   "mimetype": "text/x-python",
   "name": "python",
   "nbconvert_exporter": "python",
   "pygments_lexer": "ipython3",
   "version": "3.10.5"
  }
 },
 "nbformat": 4,
 "nbformat_minor": 5
}
