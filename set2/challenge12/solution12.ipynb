{
 "cells": [
  {
   "cell_type": "code",
   "execution_count": 200,
   "id": "72385806",
   "metadata": {},
   "outputs": [],
   "source": [
    "import base64\n",
    "import secrets\n",
    "import numpy as np\n",
    "from Crypto.Cipher import AES\n",
    "from Crypto.Util.Padding import pad"
   ]
  },
  {
   "cell_type": "code",
   "execution_count": 201,
   "id": "93f07dae",
   "metadata": {},
   "outputs": [],
   "source": [
    "def generate_random_bytes(bytes_length):\n",
    "    random_bytes = secrets.token_bytes(bytes_length)\n",
    "    return random_bytes\n",
    "\n",
    "def base64decode(raw_message):  \n",
    "    message = base64.b64decode(raw_message)\n",
    "    return message\n",
    "\n",
    "def encrypt_ECB(message):\n",
    "    assert len(KEY) == BLOCK_LENGTH\n",
    "    padded_message = pad(message + UNKNOWN_MESSAGE, BLOCK_LENGTH)\n",
    "    cipher = AES.new(KEY, AES.MODE_ECB)\n",
    "    encrypted_message = cipher.encrypt(padded_message) \n",
    "    return encrypted_message\n",
    "\n",
    "# solution\n",
    "def detect_block_length():\n",
    "    bytes_length = 0\n",
    "    empty_encrpytion_length = len(encrypt_ECB(b\"\"))\n",
    "    while bytes_length < 100:\n",
    "        bytes_length += 1\n",
    "        encryption_length = len(encrypt_ECB(b\"a\" * bytes_length))\n",
    "        if encryption_length > empty_encrpytion_length:\n",
    "            return encryption_length - empty_encrpytion_length\n",
    "\n",
    "def is_ecb():\n",
    "    block_len = 16 # smallest block length to start\n",
    "    encrypted_message = encrypt_ECB(b\"A\" * 100)\n",
    "    if encrypted_message[:block_len] == encrypted_message[block_len:2*block_len]:\n",
    "        return \"ECB\"\n",
    "    else:\n",
    "        return \"Not ECB\""
   ]
  },
  {
   "cell_type": "code",
   "execution_count": 202,
   "id": "b11ff357",
   "metadata": {},
   "outputs": [],
   "source": [
    "UNKNOWN_MESSAGE_B64ENCODED = b\"Um9sbGluJyBpbiBteSA1LjAKV2l0aCBteSByYWctdG9wIGRvd24gc28gbXkgaGFpciBjYW4gYmxvdwpUaGUgZ2lybGllcyBvbiBzdGFuZGJ5IHdhdmluZyBqdXN0IHRvIHNheSBoaQpEaWQgeW91IHN0b3A/IE5vLCBJIGp1c3QgZHJvdmUgYnkK\"\n",
    "UNKNOWN_MESSAGE = base64decode(UNKNOWN_MESSAGE_B64ENCODED)\n",
    "BLOCK_LENGTH = 16\n",
    "KEY = generate_random_bytes(BLOCK_LENGTH)"
   ]
  },
  {
   "cell_type": "markdown",
   "id": "24016399",
   "metadata": {},
   "source": [
    "Block length"
   ]
  },
  {
   "cell_type": "code",
   "execution_count": 203,
   "id": "baca805e",
   "metadata": {},
   "outputs": [
    {
     "name": "stdout",
     "output_type": "stream",
     "text": [
      "block length: 16\n",
      "encryption method: ECB\n"
     ]
    }
   ],
   "source": [
    "print(\"block length:\", detect_block_length())\n",
    "print(\"encryption method:\", is_ecb())"
   ]
  },
  {
   "cell_type": "code",
   "execution_count": null,
   "id": "924d4080",
   "metadata": {},
   "outputs": [],
   "source": [
    "def get_unknown_string_length():\n",
    "    unknown_string_length_approx = len(encrypt_ECB(b\"\"))\n",
    "    unknown_string_length = unknown_string_length_approx\n",
    "    for i in range(1, BLOCK_LENGTH):\n",
    "        unknown_string_length_test = len(encrypt_ECB(b\"A\" * i))\n",
    "        if unknown_string_length_test == unknown_string_length_approx:\n",
    "            unknown_string_length -= 1\n",
    "        else:\n",
    "            return unknown_string_length\n",
    "            \n",
    "\n",
    "def decrypt_unknown_string():\n",
    "    unknown_string_length = get_unknown_string_length()\n",
    "    n_blocks = unknown_string_length // BLOCK_LENGTH \n",
    "    buffer_string = b\"A\" * BLOCK_LENGTH\n",
    "    unknown_string = b\"\" \n",
    "    for i in range(n_blocks):  \n",
    "        for j in range(BLOCK_LENGTH):\n",
    "            message = buffer_string[j+1:]\n",
    "            original_encrypted_message = encrypt_ECB(message)\n",
    "            for k in range(256):\n",
    "                l_unknown_string = len(unknown_string)\n",
    "                test_message = message + unknown_string[l_unknown_string-j:] + bytes([k])\n",
    "                if i == 1 and j == 0:\n",
    "                    print(unknown_string[-j:])\n",
    "                    break\n",
    "                test_encypted_message =  encrypt_ECB(test_message)\n",
    "                if test_encypted_message[:BLOCK_LENGTH] == original_encrypted_message[i*BLOCK_LENGTH:(i+1)*BLOCK_LENGTH]:\n",
    "                    unknown_string = unknown_string + bytes([k])\n",
    "                    break\n",
    "        buffer_string = unknown_string[-BLOCK_LENGTH:]\n",
    "    return unknown_string"
   ]
  },
  {
   "cell_type": "code",
   "execution_count": 205,
   "id": "292fc59f",
   "metadata": {},
   "outputs": [
    {
     "name": "stdout",
     "output_type": "stream",
     "text": [
      "b\"Rollin' in my 5.\"\n"
     ]
    },
    {
     "data": {
      "text/plain": [
       "b\"Rollin' in my 5.\""
      ]
     },
     "execution_count": 205,
     "metadata": {},
     "output_type": "execute_result"
    }
   ],
   "source": [
    "decrypt_unknown_string()"
   ]
  },
  {
   "cell_type": "code",
   "execution_count": 206,
   "id": "ccc99421",
   "metadata": {},
   "outputs": [],
   "source": [
    "a = b\"Rollin' in my 5.\""
   ]
  },
  {
   "cell_type": "code",
   "execution_count": 207,
   "id": "73567f70",
   "metadata": {},
   "outputs": [],
   "source": [
    "b = encrypt_ECB(a[1:])[BLOCK_LENGTH:2*BLOCK_LENGTH]"
   ]
  },
  {
   "cell_type": "code",
   "execution_count": 208,
   "id": "2cfcf5a4",
   "metadata": {},
   "outputs": [
    {
     "name": "stdout",
     "output_type": "stream",
     "text": [
      "48\n"
     ]
    }
   ],
   "source": [
    "for k in range(256):\n",
    "    if encrypt_ECB(a[1:]+bytes([k]))[:BLOCK_LENGTH] == b:\n",
    "        print(k)"
   ]
  }
 ],
 "metadata": {
  "kernelspec": {
   "display_name": "Python 3",
   "language": "python",
   "name": "python3"
  },
  "language_info": {
   "codemirror_mode": {
    "name": "ipython",
    "version": 3
   },
   "file_extension": ".py",
   "mimetype": "text/x-python",
   "name": "python",
   "nbconvert_exporter": "python",
   "pygments_lexer": "ipython3",
   "version": "3.10.5"
  }
 },
 "nbformat": 4,
 "nbformat_minor": 5
}
