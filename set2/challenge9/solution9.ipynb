{
 "cells": [
  {
   "cell_type": "code",
   "execution_count": 11,
   "id": "b9733782",
   "metadata": {},
   "outputs": [],
   "source": [
    "def pad(message, block_len):\n",
    "    # message is bstring\n",
    "    pad_value = block_len - (len(message) % block_len) \n",
    "    assert pad_value < 256\n",
    "    pad_bytes = bytes.fromhex(\"{:02x}\".format(pad_value)) * pad_value\n",
    "    return message + pad_bytes"
   ]
  },
  {
   "cell_type": "code",
   "execution_count": 12,
   "id": "5608dcfe",
   "metadata": {},
   "outputs": [
    {
     "name": "stdout",
     "output_type": "stream",
     "text": [
      "b'YELLOW SUBMARINE\\x04\\x04\\x04\\x04'\n"
     ]
    }
   ],
   "source": [
    "message = b\"YELLOW SUBMARINE\"\n",
    "block_len = 20\n",
    "print(pad(message, block_len))"
   ]
  }
 ],
 "metadata": {
  "kernelspec": {
   "display_name": "Python 3",
   "language": "python",
   "name": "python3"
  },
  "language_info": {
   "codemirror_mode": {
    "name": "ipython",
    "version": 3
   },
   "file_extension": ".py",
   "mimetype": "text/x-python",
   "name": "python",
   "nbconvert_exporter": "python",
   "pygments_lexer": "ipython3",
   "version": "3.10.5"
  }
 },
 "nbformat": 4,
 "nbformat_minor": 5
}
