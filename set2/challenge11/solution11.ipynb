{
 "cells": [
  {
   "cell_type": "code",
   "execution_count": 29,
   "id": "62e36d83",
   "metadata": {},
   "outputs": [],
   "source": [
    "import secrets\n",
    "import numpy as np\n",
    "from Crypto.Cipher import AES\n",
    "from Crypto.Util.Padding import pad"
   ]
  },
  {
   "cell_type": "code",
   "execution_count": 30,
   "id": "b2a3bc95",
   "metadata": {},
   "outputs": [],
   "source": [
    "def generate_random_bytes(bytes_length):\n",
    "    random_bytes = secrets.token_bytes(bytes_length)\n",
    "    return random_bytes\n",
    "\n",
    "def add_random_bytes(message):\n",
    "    n_front_bytes = np.random.randint(5, 10)\n",
    "    n_end_bytes = np.random.randint(5, 10)\n",
    "    bytes_added_to_front = generate_random_bytes(bytes_length=n_front_bytes)\n",
    "    bytes_added_to_end = generate_random_bytes(bytes_length=n_end_bytes)\n",
    "    message_with_random_bytes = bytes_added_to_front + message + bytes_added_to_end\n",
    "    return message_with_random_bytes\n",
    "\n",
    "def encrypt_ECB(message, key, block_len):\n",
    "    assert len(key) == block_len\n",
    "    padded_message = pad(message, block_len)\n",
    "    cipher = AES.new(key, AES.MODE_ECB)\n",
    "    encrypted_message = cipher.encrypt(padded_message) \n",
    "    return encrypted_message\n",
    "\n",
    "def encrypt_CBC(message, key, block_len):\n",
    "    assert len(key) == block_len\n",
    "    padded_message = pad(message, block_len)\n",
    "    n_blocks = len(padded_message) // block_len\n",
    "    message_block = IV\n",
    "    message = b\"\"\n",
    "    cipher = AES.new(key, AES.MODE_ECB)\n",
    "    for i in range(n_blocks):\n",
    "        xored_message = bytes([c1^c2 for c1, c2 in zip(padded_message[i*block_len:(i+1)*block_len], message_block)])\n",
    "        message_block = cipher.encrypt(xored_message)\n",
    "        message += message_block\n",
    "    return message\n",
    "    \n",
    "def encryption_oracle(message, block_len):\n",
    "    message_with_random_bytes = add_random_bytes(message)\n",
    "    key = generate_random_bytes(BLOCK_LENGTH)\n",
    "    padded_message = pad(message_with_random_bytes, block_len)\n",
    "    if RANDOM_NUMBER == 0:\n",
    "        encrypted_message = encrypt_ECB(padded_message, key, block_len)\n",
    "    if RANDOM_NUMBER == 1:\n",
    "        encrypted_message = encrypt_CBC(padded_message, key, block_len)\n",
    "    return encrypted_message\n",
    "\n",
    "def test_encryption_oracle(message):    \n",
    "    encrypted_message = encryption_oracle(message)\n",
    "    return encrypted_message\n",
    "\n",
    "def detect_encryption_method(block_len):\n",
    "    test_message = b\"a\" * 43\n",
    "    encrypted_message = encryption_oracle(test_message, block_len)\n",
    "    if encrypted_message[BLOCK_LENGTH:2*BLOCK_LENGTH] == encrypted_message[2*BLOCK_LENGTH:3*BLOCK_LENGTH]:\n",
    "        return \"ECB\"\n",
    "    else:\n",
    "        return \"CBC\""
   ]
  },
  {
   "cell_type": "code",
   "execution_count": 31,
   "id": "8e941507",
   "metadata": {},
   "outputs": [],
   "source": [
    "BLOCK_LENGTH = 16\n",
    "ENCRYPTION_METHODS = [\"ECB\", \"CBC\"]\n",
    "RANDOM_NUMBER = np.random.randint(2)\n",
    "IV = generate_random_bytes(BLOCK_LENGTH)"
   ]
  },
  {
   "cell_type": "code",
   "execution_count": 32,
   "id": "fd3944e8",
   "metadata": {},
   "outputs": [],
   "source": [
    "test_message = b\"a\" * 43\n",
    "encrypted_message = encryption_oracle(test_message, BLOCK_LENGTH)"
   ]
  },
  {
   "cell_type": "code",
   "execution_count": 39,
   "id": "86ca422d",
   "metadata": {},
   "outputs": [
    {
     "data": {
      "text/plain": [
       "'CBC'"
      ]
     },
     "execution_count": 39,
     "metadata": {},
     "output_type": "execute_result"
    }
   ],
   "source": [
    "detect_encryption_method(BLOCK_LENGTH)"
   ]
  }
 ],
 "metadata": {
  "kernelspec": {
   "display_name": "Python 3",
   "language": "python",
   "name": "python3"
  },
  "language_info": {
   "codemirror_mode": {
    "name": "ipython",
    "version": 3
   },
   "file_extension": ".py",
   "mimetype": "text/x-python",
   "name": "python",
   "nbconvert_exporter": "python",
   "pygments_lexer": "ipython3",
   "version": "3.10.5"
  }
 },
 "nbformat": 4,
 "nbformat_minor": 5
}
