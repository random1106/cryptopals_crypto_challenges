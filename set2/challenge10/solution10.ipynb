{
 "cells": [
  {
   "cell_type": "code",
   "execution_count": 1,
   "id": "5caaae77",
   "metadata": {},
   "outputs": [],
   "source": [
    "from Crypto.Cipher import AES\n",
    "from base64 import b64encode\n",
    "from Crypto.Util.Padding import pad, unpad\n",
    "import base64\n",
    "import numpy as np"
   ]
  },
  {
   "cell_type": "code",
   "execution_count": 2,
   "id": "ad23dabd",
   "metadata": {},
   "outputs": [],
   "source": [
    "def encrypt_CBC(message, key, iv, block_len):\n",
    "    assert len(key) == block_len\n",
    "    padded_message = pad(message, block_len)\n",
    "    n_blocks = len(padded_message) // block_len\n",
    "    message_block = iv\n",
    "    encrypted_message = b\"\"\n",
    "    cipher = AES.new(key, AES.MODE_ECB)\n",
    "    for i in range(n_blocks):\n",
    "        xored_message = bytes([c1^c2 for c1, c2 in zip(padded_message[i*block_len:(i+1)*block_len], message_block)])\n",
    "        message_block = cipher.encrypt(xored_message)\n",
    "        encrypted_message += message_block\n",
    "    return encrypted_message\n",
    "\n",
    "def decrypt_CBC(message, key, iv, block_len):\n",
    "    assert len(key) == block_len\n",
    "    assert len(message) % block_len == 0\n",
    "    n_blocks = len(message) // block_len\n",
    "    dmessage_block = iv\n",
    "    cipher = AES.new(key, AES.MODE_ECB)\n",
    "    original_message = b\"\"\n",
    "    for i in range(n_blocks):\n",
    "        message_block = message[i*block_len:(i+1)*block_len]\n",
    "        xored_message_block = cipher.decrypt(message_block) \n",
    "        original_message_block = bytes([c1^c2 for c1, c2 in zip(xored_message_block, dmessage_block)])\n",
    "        original_message += original_message_block\n",
    "        dmessage_block = message_block\n",
    "    return original_message\n",
    "\n",
    "def load(url):\n",
    "    raw_message = np.loadtxt(url, dtype=\"str\")\n",
    "    return raw_message\n",
    "\n",
    "def base64decode(raw_message):  \n",
    "    message = base64.b64decode(raw_message)\n",
    "    return message"
   ]
  },
  {
   "cell_type": "code",
   "execution_count": 3,
   "id": "0ea01d6d",
   "metadata": {},
   "outputs": [],
   "source": [
    "message = b\"abcdefghijklmnopqrstuvwxyz\"\n",
    "key = b\"YELLOW SUBMARINE\"\n",
    "iv = b\"\\x00\" * 16\n",
    "block_len = 16\n",
    "encrypted_message = encrypt_CBC(message, key, iv, block_len)"
   ]
  },
  {
   "cell_type": "code",
   "execution_count": 4,
   "id": "26f3c082",
   "metadata": {},
   "outputs": [
    {
     "name": "stdout",
     "output_type": "stream",
     "text": [
      "b'abcdefghijklmnopqrstuvwxyz'\n"
     ]
    }
   ],
   "source": [
    "decrypted_message = decrypt_CBC(encrypted_message, key, iv, block_len)\n",
    "print(unpad(decrypted_message, block_len))"
   ]
  },
  {
   "cell_type": "code",
   "execution_count": 5,
   "id": "2cd0b6a0",
   "metadata": {},
   "outputs": [
    {
     "name": "stdout",
     "output_type": "stream",
     "text": [
      "I'm back and I'm ringin' the bell \n",
      "A rockin' on the mike while the fly girls yell \n",
      "In ecstasy in the back of me \n",
      "Well that's my DJ Deshay cuttin' all them Z's \n",
      "Hittin' hard and the girlies goin' crazy \n",
      "Vanilla's on the mike, man I'm not lazy. \n",
      "\n",
      "I'm lettin' my drug kick in \n",
      "It controls my mouth and I begin \n",
      "To just let it flow, let my concepts go \n",
      "My posse's to the side yellin', Go Vanilla Go! \n",
      "\n",
      "Smooth 'cause that's the way I will be \n",
      "And if you don't give a damn, then \n",
      "Why you starin' at me \n",
      "So get off 'cause I control the stage \n",
      "There's no dissin' allowed \n",
      "I'm in my own phase \n",
      "The girlies sa y they love me and that is ok \n",
      "And I can dance better than any kid n' play \n",
      "\n",
      "Stage 2 -- Yea the one ya' wanna listen to \n",
      "It's off my head so let the beat play through \n",
      "So I can funk it up and make it sound good \n",
      "1-2-3 Yo -- Knock on some wood \n",
      "For good luck, I like my rhymes atrocious \n",
      "Supercalafragilisticexpialidocious \n",
      "I'm an effect and that you can bet \n",
      "I can take a fly girl and make her wet. \n",
      "\n",
      "I'm like Samson -- Samson to Delilah \n",
      "There's no denyin', You can try to hang \n",
      "But you'll keep tryin' to get my style \n",
      "Over and over, practice makes perfect \n",
      "But not if you're a loafer. \n",
      "\n",
      "You'll get nowhere, no place, no time, no girls \n",
      "Soon -- Oh my God, homebody, you probably eat \n",
      "Spaghetti with a spoon! Come on and say it! \n",
      "\n",
      "VIP. Vanilla Ice yep, yep, I'm comin' hard like a rhino \n",
      "Intoxicating so you stagger like a wino \n",
      "So punks stop trying and girl stop cryin' \n",
      "Vanilla Ice is sellin' and you people are buyin' \n",
      "'Cause why the freaks are jockin' like Crazy Glue \n",
      "Movin' and groovin' trying to sing along \n",
      "All through the ghetto groovin' this here song \n",
      "Now you're amazed by the VIP posse. \n",
      "\n",
      "Steppin' so hard like a German Nazi \n",
      "Startled by the bases hittin' ground \n",
      "There's no trippin' on mine, I'm just gettin' down \n",
      "Sparkamatic, I'm hangin' tight like a fanatic \n",
      "You trapped me once and I thought that \n",
      "You might have it \n",
      "So step down and lend me your ear \n",
      "'89 in my time! You, '90 is my year. \n",
      "\n",
      "You're weakenin' fast, YO! and I can tell it \n",
      "Your body's gettin' hot, so, so I can smell it \n",
      "So don't be mad and don't be sad \n",
      "'Cause the lyrics belong to ICE, You can call me Dad \n",
      "You're pitchin' a fit, so step back and endure \n",
      "Let the witch doctor, Ice, do the dance to cure \n",
      "So come up close and don't be square \n",
      "You wanna battle me -- Anytime, anywhere \n",
      "\n",
      "You thought that I was weak, Boy, you're dead wrong \n",
      "So come on, everybody and sing this song \n",
      "\n",
      "Say -- Play that funky music Say, go white boy, go white boy go \n",
      "play that funky music Go white boy, go white boy, go \n",
      "Lay down and boogie and play that funky music till you die. \n",
      "\n",
      "Play that funky music Come on, Come on, let me hear \n",
      "Play that funky music white boy you say it, say it \n",
      "Play that funky music A little louder now \n",
      "Play that funky music, white boy Come on, Come on, Come on \n",
      "Play that funky music \n",
      "\n"
     ]
    }
   ],
   "source": [
    "url = \"https://cryptopals.com/static/challenge-data/10.txt\"\n",
    "iv = b\"\\x00\" * 16\n",
    "block_len = 16\n",
    "key=b\"YELLOW SUBMARINE\"\n",
    "encrypted_message = base64decode(load(url=url))\n",
    "print(unpad(decrypt_CBC(encrypted_message, key, iv, block_len), block_len).decode())"
   ]
  }
 ],
 "metadata": {
  "kernelspec": {
   "display_name": "Python 3",
   "language": "python",
   "name": "python3"
  },
  "language_info": {
   "codemirror_mode": {
    "name": "ipython",
    "version": 3
   },
   "file_extension": ".py",
   "mimetype": "text/x-python",
   "name": "python",
   "nbconvert_exporter": "python",
   "pygments_lexer": "ipython3",
   "version": "3.10.5"
  }
 },
 "nbformat": 4,
 "nbformat_minor": 5
}
