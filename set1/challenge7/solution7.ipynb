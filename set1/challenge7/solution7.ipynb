{
 "cells": [
  {
   "cell_type": "code",
   "execution_count": 1,
   "metadata": {},
   "outputs": [
    {
     "data": {
      "text/plain": [
       "'59454c4c4f57205355424d4152494e45'"
      ]
     },
     "execution_count": 1,
     "metadata": {},
     "output_type": "execute_result"
    }
   ],
   "source": [
    "key_for_encrypt = \"YELLOW SUBMARINE\"\n",
    "res = []\n",
    "\n",
    "for c in key_for_encrypt:\n",
    "    res.append(\"{:02x}\".format(ord(c)))\n",
    "\n",
    "\"\".join(res)"
   ]
  },
  {
   "cell_type": "markdown",
   "metadata": {},
   "source": [
    "command line solution\n",
    "\n",
    "```\n",
    "openssl enc -d -aes-128-ecb -base64 -in encrypted.txt -K 59454c4c4f57205355424d4152494e45\n",
    "```"
   ]
  }
 ],
 "metadata": {
  "kernelspec": {
   "display_name": "Python 3",
   "language": "python",
   "name": "python3"
  },
  "language_info": {
   "codemirror_mode": {
    "name": "ipython",
    "version": 3
   },
   "file_extension": ".py",
   "mimetype": "text/x-python",
   "name": "python",
   "nbconvert_exporter": "python",
   "pygments_lexer": "ipython3",
   "version": "3.10.5"
  }
 },
 "nbformat": 4,
 "nbformat_minor": 2
}
