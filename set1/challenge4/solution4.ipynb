{
 "cells": [
  {
   "cell_type": "code",
   "execution_count": 1,
   "id": "b6d1fa40",
   "metadata": {},
   "outputs": [],
   "source": [
    "'''\n",
    "\n",
    " The hex encoded string:\n",
    "\n",
    "1b37373331363f78151b7f2b783431333d78397828372d363c78373e783a393b3736\n",
    "\n",
    "... has been XOR'd against a single character. Find the key, decrypt the message.\n",
    "\n",
    "You can do this by hand. But don't: write code to do it for you.\n",
    "\n",
    "How? Devise some method for \"scoring\" a piece of English plaintext. Character frequency is a good metric. Evaluate each output and choose the one with the best score.\n",
    "Achievement Unlocked\n",
    "\n",
    "You now have our permission to make \"ETAOIN SHRDLU\" jokes on Twitter.\n",
    "\n",
    "\n",
    "'''\n",
    "\n",
    "import numpy as np\n",
    "\n",
    "# this function is borrowed from https://dev.to/wrongbyte/cryptography-basics-breaking-repeated-key-xor-ciphertext-1fm2\n",
    "def assign_score(output_string):\n",
    "    string_score = 0\n",
    "    freq = [' ', 'e', 't', 'a', 'o', 'i', 'n', 's', 'h', 'r', 'd', 'l', 'u']\n",
    "    for letter in output_string:\n",
    "        if letter in freq:\n",
    "            string_score += 1\n",
    "    return string_score\n",
    "\n",
    "texts = list(np.loadtxt(\"https://cryptopals.com/static/challenge-data/4.txt\", dtype='str'))\n",
    "\n",
    "final_result = []\n",
    "string_score = 0\n",
    "for text in texts:\n",
    "    for cipher in range(256):\n",
    "        res = []\n",
    "        for i in range(len(text) // 2):\n",
    "            res.append(chr(cipher ^ (int(text[2*i:2*i+2], 16))))\n",
    "        if assign_score(\"\".join(res)) > string_score:\n",
    "            string_score =  assign_score(\"\".join(res))\n",
    "            deciphered = \"\".join(res)"
   ]
  },
  {
   "cell_type": "code",
   "execution_count": 2,
   "id": "ac84760e",
   "metadata": {},
   "outputs": [
    {
     "name": "stdout",
     "output_type": "stream",
     "text": [
      "Now that the party is jumping\n",
      "\n"
     ]
    }
   ],
   "source": [
    "print(deciphered)"
   ]
  }
 ],
 "metadata": {
  "kernelspec": {
   "display_name": "Python 3",
   "language": "python",
   "name": "python3"
  },
  "language_info": {
   "codemirror_mode": {
    "name": "ipython",
    "version": 3
   },
   "file_extension": ".py",
   "mimetype": "text/x-python",
   "name": "python",
   "nbconvert_exporter": "python",
   "pygments_lexer": "ipython3",
   "version": "3.10.5"
  }
 },
 "nbformat": 4,
 "nbformat_minor": 5
}
