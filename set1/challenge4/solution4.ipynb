{
 "cells": [
  {
   "cell_type": "code",
   "execution_count": 15,
   "id": "b6d1fa40",
   "metadata": {},
   "outputs": [],
   "source": [
    "'''\n",
    "\n",
    " The hex encoded string:\n",
    "\n",
    "1b37373331363f78151b7f2b783431333d78397828372d363c78373e783a393b3736\n",
    "\n",
    "... has been XOR'd against a single character. Find the key, decrypt the message.\n",
    "\n",
    "You can do this by hand. But don't: write code to do it for you.\n",
    "\n",
    "How? Devise some method for \"scoring\" a piece of English plaintext. Character frequency is a good metric. Evaluate each output and choose the one with the best score.\n",
    "Achievement Unlocked\n",
    "\n",
    "You now have our permission to make \"ETAOIN SHRDLU\" jokes on Twitter.\n",
    "\n",
    "\n",
    "'''\n",
    "\n",
    "import numpy as np\n",
    "\n",
    "# this function is borrowed from https://dev.to/wrongbyte/cryptography-basics-breaking-repeated-key-xor-ciphertext-1fm2\n",
    "def assign_score(output_string):\n",
    "    string_score = 0\n",
    "    freq = [' ', 'e', 't', 'a', 'o', 'i', 'n', 's', 'h', 'r', 'd', 'l', 'u']\n",
    "    for letter in output_string:\n",
    "        if letter in freq:\n",
    "            string_score += 1\n",
    "    return string_score\n",
    "\n",
    "\n",
    "# def frequency_count(str):\n",
    "#     f_dic = {}\n",
    "#     for i in range(0, len(str), 2):\n",
    "#         char = str[i:i+2]\n",
    "#         if char not in f_dic:\n",
    "#             f_dic[char] = 1\n",
    "#         else:\n",
    "#             f_dic[char] += 1\n",
    "    \n",
    "#     sorted_f_list = list(f_dic.keys())\n",
    "    \n",
    "#     return sorted_f_list\n",
    "\n",
    "#string_ascii = list(range(32, 46)) + list(range(65, 91)) + list(range(97, 123)) + [9, 10] \n",
    "\n",
    "# 32 - 45 is for space, quote, comma, period etc (can be more selective)\n",
    "# 65 - 91 is for a - z\n",
    "# 97 - 122 is for A - Z\n",
    "# 9, 10 is for tab and line change \n",
    "\n",
    "def decode(str):\n",
    "    res = []\n",
    "    my_list = frequency_count(str)\n",
    "    for hexstr in my_list:\n",
    "        d_num = int(hexstr, 16)\n",
    "        cipher = d_num^int(ord('e'))\n",
    "        res1 = []\n",
    "        add = True\n",
    "        for i in range(0, len(str), 2):\n",
    "            hex_num = str[i:i+2]\n",
    "            d_num = int(hex_num, 16)\n",
    "            decoded_d_num = d_num^cipher\n",
    "            if decoded_d_num not in string_ascii:\n",
    "                add = False\n",
    "                break\n",
    "            res1.append(chr(decoded_d_num))\n",
    "        if add:\n",
    "            res.append(\"\".join(res1))\n",
    "    return res\n",
    "\n",
    "texts = list(np.loadtxt(\"https://cryptopals.com/static/challenge-data/4.txt\", dtype='str'))\n",
    "\n",
    "final_result = []\n",
    "string_score = 0\n",
    "for text in texts:\n",
    "    for cipher in range(256):\n",
    "        res = []\n",
    "        for i in range(len(text) // 2):\n",
    "            res.append(chr(cipher ^ (int(text[2*i:2*i+2], 16))))\n",
    "        if assign_score(\"\".join(res)) > string_score:\n",
    "            string_score =  assign_score(\"\".join(res))\n",
    "            deciphered = \"\".join(res)"
   ]
  },
  {
   "cell_type": "code",
   "execution_count": 17,
   "id": "ac84760e",
   "metadata": {},
   "outputs": [
    {
     "name": "stdout",
     "output_type": "stream",
     "text": [
      "Now that the party is jumping\n",
      "\n"
     ]
    }
   ],
   "source": [
    "print(deciphered)"
   ]
  }
 ],
 "metadata": {
  "kernelspec": {
   "display_name": "Python 3",
   "language": "python",
   "name": "python3"
  },
  "language_info": {
   "codemirror_mode": {
    "name": "ipython",
    "version": 3
   },
   "file_extension": ".py",
   "mimetype": "text/x-python",
   "name": "python",
   "nbconvert_exporter": "python",
   "pygments_lexer": "ipython3",
   "version": "3.10.5"
  }
 },
 "nbformat": 4,
 "nbformat_minor": 5
}
