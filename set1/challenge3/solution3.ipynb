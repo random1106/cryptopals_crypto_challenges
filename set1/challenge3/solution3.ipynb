{
 "cells": [
  {
   "cell_type": "code",
   "execution_count": 4,
   "id": "f9bf4091",
   "metadata": {},
   "outputs": [],
   "source": [
    "# this function is borrowed from https://dev.to/wrongbyte/cryptography-basics-breaking-repeated-key-xor-ciphertext-1fm2\n",
    "def assign_score(output_string):\n",
    "    string_score = 0\n",
    "    freq = [' ', 'e', 't', 'a', 'o', 'i', 'n', 's', 'h', 'r', 'd', 'l', 'u']\n",
    "    for letter in output_string:\n",
    "        if letter in freq:\n",
    "            string_score += 1\n",
    "    return string_score\n",
    "\n",
    "def decrypt(message):\n",
    "    string_score = 0\n",
    "    deciphered_message = None\n",
    "    for cipher in range(256):\n",
    "        res = []\n",
    "        for i in range(0, len(message), 2):\n",
    "            res.append(chr(cipher ^ (int(message[i:i+2], 16))))\n",
    "        if assign_score(\"\".join(res)) > string_score:\n",
    "            string_score =  assign_score(\"\".join(res))\n",
    "            deciphered_message = \"\".join(res)\n",
    "\n",
    "    return deciphered_message"
   ]
  },
  {
   "cell_type": "code",
   "execution_count": 5,
   "id": "29c1bd98",
   "metadata": {},
   "outputs": [
    {
     "data": {
      "text/plain": [
       "\"Cooking MC's like a pound of bacon\""
      ]
     },
     "execution_count": 5,
     "metadata": {},
     "output_type": "execute_result"
    }
   ],
   "source": [
    "encrypted_message = \"1b37373331363f78151b7f2b783431333d78397828372d363c78373e783a393b3736\"\n",
    "decrypt(encrypted_message)"
   ]
  }
 ],
 "metadata": {
  "kernelspec": {
   "display_name": "Python 3",
   "language": "python",
   "name": "python3"
  },
  "language_info": {
   "codemirror_mode": {
    "name": "ipython",
    "version": 3
   },
   "file_extension": ".py",
   "mimetype": "text/x-python",
   "name": "python",
   "nbconvert_exporter": "python",
   "pygments_lexer": "ipython3",
   "version": "3.10.5"
  }
 },
 "nbformat": 4,
 "nbformat_minor": 5
}
