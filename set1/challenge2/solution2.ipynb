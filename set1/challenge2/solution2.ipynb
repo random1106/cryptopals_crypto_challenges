{
 "cells": [
  {
   "cell_type": "code",
   "execution_count": 14,
   "id": "b3c780be",
   "metadata": {},
   "outputs": [],
   "source": [
    "def xordecode(str1, str2):\n",
    "\n",
    "    chr_list = []\n",
    "    \n",
    "    assert len(str1) == len(str2), \"The hexstrings must have the same length.\"\n",
    "    \n",
    "    for i in range(len(str1)):\n",
    "        hexnum1 = int(str1[i], 16)\n",
    "        hexnum2 = int(str2[i], 16)\n",
    "        hexstr = \"{:0x}\".format(hexnum1^hexnum2)        \n",
    "        chr_list.append(hexstr)\n",
    "\n",
    "    res = \"\".join(chr_list)\n",
    "\n",
    "    return res"
   ]
  },
  {
   "cell_type": "code",
   "execution_count": 15,
   "id": "ff468539",
   "metadata": {},
   "outputs": [
    {
     "data": {
      "text/plain": [
       "'746865206b696420646f6e277420706c6179'"
      ]
     },
     "execution_count": 15,
     "metadata": {},
     "output_type": "execute_result"
    }
   ],
   "source": [
    "str1 = \"1c0111001f010100061a024b53535009181c\"\n",
    "str2 = \"686974207468652062756c6c277320657965\"\n",
    "xordecode(str1, str2)"
   ]
  }
 ],
 "metadata": {
  "kernelspec": {
   "display_name": "Python 3",
   "language": "python",
   "name": "python3"
  },
  "language_info": {
   "codemirror_mode": {
    "name": "ipython",
    "version": 3
   },
   "file_extension": ".py",
   "mimetype": "text/x-python",
   "name": "python",
   "nbconvert_exporter": "python",
   "pygments_lexer": "ipython3",
   "version": "3.10.5"
  }
 },
 "nbformat": 4,
 "nbformat_minor": 5
}
