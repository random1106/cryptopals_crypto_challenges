{
 "cells": [
  {
   "cell_type": "markdown",
   "id": "6580adbc",
   "metadata": {},
   "source": [
    "Computing Hamming distance"
   ]
  },
  {
   "cell_type": "code",
   "execution_count": 29,
   "id": "6ca51430",
   "metadata": {},
   "outputs": [],
   "source": [
    "def findhammingdistance(msg1, msg2):\n",
    "    assert len(msg1) == len(msg2), \"the msgings must have the same length\"\n",
    "    distance = 0\n",
    "    for c1, c2 in zip(bytes(msg1), bytes(msg2)):\n",
    "        distance += str(bin(c1^c2)).count(\"1\")\n",
    "\n",
    "    return distance    "
   ]
  },
  {
   "cell_type": "markdown",
   "id": "fc235405",
   "metadata": {},
   "source": [
    "Verify according to the instruction"
   ]
  },
  {
   "cell_type": "code",
   "execution_count": 30,
   "id": "a0ef6056",
   "metadata": {},
   "outputs": [
    {
     "name": "stdout",
     "output_type": "stream",
     "text": [
      "37\n"
     ]
    }
   ],
   "source": [
    "msg1 = (\"this is a test\").encode(\"utf8\")\n",
    "msg2 = (\"wokka wokka!!!\").encode(\"utf8\")\n",
    "print(findhammingdistance(msg1, msg2))"
   ]
  },
  {
   "cell_type": "markdown",
   "id": "6acf319a",
   "metadata": {},
   "source": [
    "Load the encrypted message and first decode it from base64"
   ]
  },
  {
   "cell_type": "code",
   "execution_count": 31,
   "id": "1ce02245",
   "metadata": {},
   "outputs": [],
   "source": [
    "import base64\n",
    "import numpy as np\n",
    "import pandas as pd\n",
    "\n",
    "\n",
    "base64_encrypted_message = np.loadtxt(\"https://cryptopals.com/static/challenge-data/6.txt\", dtype=\"str\")\n",
    "\n",
    "message = base64.b64decode(base64_encrypted_message)"
   ]
  },
  {
   "cell_type": "markdown",
   "id": "9587e370",
   "metadata": {},
   "source": [
    "Compute the Hamming distance between first several blocks with a fixed keysize.\n",
    "\n",
    "Tranverse keysize from 2 to 41 and sort the resulting normalized Hamming distance. "
   ]
  },
  {
   "cell_type": "code",
   "execution_count": 76,
   "id": "80a71adf",
   "metadata": {},
   "outputs": [
    {
     "data": {
      "text/plain": [
       "Index([ 2,  3, 29,  5, 18, 31, 20, 13, 19,  8, 39, 40, 24, 30, 14, 34, 17, 37,\n",
       "       15,  9, 28, 35,  7, 25, 11, 23, 21, 38, 16, 33, 26,  6, 32,  4, 12, 27,\n",
       "       22, 10, 36],\n",
       "      dtype='int64')"
      ]
     },
     "execution_count": 76,
     "metadata": {},
     "output_type": "execute_result"
    }
   ],
   "source": [
    "def find_Hammingdistrance(message, keysize):\n",
    "    distance1 = findhammingdistance(message[:keysize], message[keysize:2*keysize])\n",
    "    distance2 = findhammingdistance(message[keysize:2*keysize], message[2*keysize:3*keysize])\n",
    "    distance3 = findhammingdistance(message[2*keysize:3*keysize], message[3*keysize:4*keysize])\n",
    "    distance = (distance1 + distance2 + distance3) / 3\n",
    "    return distance / keysize\n",
    "\n",
    "keysizetodistance = {}\n",
    "\n",
    "for keysize in range(2, 41):\n",
    "    keysizetodistance[keysize] = find_Hammingdistrance(message, keysize)\n",
    "\n",
    "pd.Series(keysizetodistance).sort_values().index"
   ]
  },
  {
   "cell_type": "markdown",
   "id": "6b807824",
   "metadata": {},
   "source": [
    "Write the message decrypter"
   ]
  },
  {
   "cell_type": "code",
   "execution_count": null,
   "id": "cecd9669",
   "metadata": {},
   "outputs": [],
   "source": [
    "# this function is borrowed from https://dev.to/wrongbyte/cryptography-basics-breaking-repeated-key-xor-ciphertext-1fm2\n",
    "def assign_score(output_string):\n",
    "    string_score = 0\n",
    "    freq = [' ', 'e', 't', 'a', 'o', 'i', 'n', 's', 'h', 'r', 'd', 'l', 'u']\n",
    "    for letter in output_string:\n",
    "        if letter in freq:\n",
    "            string_score += 1\n",
    "    return string_score\n",
    "\n",
    "def decrypt(message):\n",
    "    string_score = 0\n",
    "    deciphered_message = None\n",
    "    c = None\n",
    "    for cipher in range(256):\n",
    "        res = []\n",
    "        for i in range(0, len(message)):\n",
    "            res.append(chr(cipher ^ message[i]))\n",
    "        if assign_score(\"\".join(res)) > string_score:\n",
    "            string_score =  assign_score(\"\".join(res))\n",
    "            deciphered_message = \"\".join(res)\n",
    "            c = cipher\n",
    "\n",
    "    return deciphered_message, c"
   ]
  },
  {
   "cell_type": "markdown",
   "id": "14c205ff",
   "metadata": {},
   "source": [
    "Decrypt the message using the keysize, starting from the smallest normalized Hamming distance. "
   ]
  },
  {
   "cell_type": "code",
   "execution_count": 77,
   "id": "357c9aef",
   "metadata": {},
   "outputs": [
    {
     "data": {
      "text/plain": [
       "('sqel! t\\x0b\\'`}e o+no\\n:s] <n:c#j=Rp\\'g!\"tEk)\\x7fg\\ninxbys<^n}k!&+\\x0bxVhf(!7\\x10\\x0cbachtn,jot\\x7f<\\x11nTt\\'!&s=T<o/h\"1\\x0chg:yz\\']eoais\\x16&<i+&/!:\\x1as\\'nxn^\\x0b\\'lne ~o~#iqu\\x16\\x07<o:i=l=Uh\\'a!n1E\\']:~tk\\x7fb#lm<Snec c:!r0ew|d= \\x0co)snykb,#oLrZ/[!DU!u=Yib{`itD\\'h:+iki+Bds<Yns\\'no+`yW0sj!\\x19-Urz{b\\'f+n\\to}hY(;a=&nniU<o/u)txblie nxe#luy\\x16\\x07qin\\x7f!om[y\\rg!\\'8I\\'hc\\x7fe\\'dnn t<^:u %\\x0c !=[<fl!+ ^sh:e n+,sa:\\x16B)< c_/uxUy~(v 5@tl:d\\nsxdem:yR=<ennndiJ}\\'gn)t\\x7f\\'){+ulb+sa~q]nhs;b)n=\\x0b.4V!c\\x1fClf:depd+Er}s\\x16;w no+l=Rqtns-;_\\r|\\x7fhlajbjtyd_\"xc!uD&=Tyal! tDspohne\\x7f\\x01#a:}S/zy)tno=[yo}v:t& )snSjd+.Sws\\x16!Xl\"nDio\\x1d<hko\\'s\\x0ch){+r\\'dcm XhO;p +v:xs\\x1as`{ln @\\'F\\x7f+n\\'}y#ryuS#ws>t+u\\x17O<h/g7!^\\')umr\\'\\x01d$l}hX9yeni>`x\\x1assb- tEk)Id *D+zG~<Y+synins\\x7fXeb{\\x0b>3Is)scatde#o\\x7fs\\x16 <anrn\\x0bT\\x14Jic`\\x071Uw)\\x7f\\'Ijhfm {xZ%< &hnHiB\\x7fsa!!-Yth}yll++jo\\x10sF os!&<hz[x`}!:$O~g:]nkjBfi:yZ <nnindm_}bmx t\\x0bfz:c o+ybs{y\\\\-u\\'\"mnsg\\x1apb\\x05n\\'sMcnu}n\\'ybdt:uQ/sgDjnir]<o/i:;Kh\\x7ft+htcy#o}\\x16Yns\\'+g/d=ChbYQ>\\'I\\'\\x03n{i x+bdvw\\x16nym H4!N[hb/x:1Ntzr\\x7fi ldm NyS=r <v\\'&r\\x1aub/&n!X`}s,dp+XbkwhUn; /a !tR<nj`(:Xd\\x03u+rwn+foy<Xn<h;nnii0s\\'fin5In)I+two|#n:yR#<o<c<\\x0b%\\x1arj/h+tC+.*b ~rj-\\nCiDnyk hn`i\\x1aS\\'a!n5\\x0cbes+Yr+dzs}h_ittninnTYrtjm\\'t\\x7f\\'f=+ejojgdthTn} ig=!u\\x1aen|c\":\\x0ch@_+o\\'j+blw<WnEu<&\\'bt\\x1d}a{!!\\'I\\'hqjdboy#LnhS9hh*e!-T_<h{d*:Is)on\\nhhf#pysS/xd r,!l[y\\r`!/:\\x0cf}\\x7ff *Jrje:rA+y\\n\\x17s:nzNhf/!/tIl)u\\'yry+fdmsQDsc#& !kH~c/on=Ks`:dg\\rXr. veB/<u%&;h=[0`/i:tC+n:ct\\'d+l\\nveB/<u%&;h=Uknjc7tCp`\\x7fiy\\'d\\x01b urW*~o\\'& !qChf/t%tYn)sgyron#\\nveB/<u%&;h=Uyh#B#tB\\'l:nhf+[b rhP em=e9hxXe~zr7=\\x00tps+Pf+cwfte[=\\x7fA\"r\"!r^nix\\x0b\"-Xf)o` rb\\'ti\\x7f~O\\rq  &!dr\\x16_j/oD8Ush:~k\\'~b#',\n",
       " 110)"
      ]
     },
     "execution_count": 77,
     "metadata": {},
     "output_type": "execute_result"
    }
   ],
   "source": [
    "decrypt(message[::2])"
   ]
  },
  {
   "cell_type": "code",
   "execution_count": 78,
   "id": "5ec7aab2",
   "metadata": {},
   "outputs": [
    {
     "data": {
      "text/plain": [
       "('s#l}tq`o xn\\':- h:+j|pt!OEs\\x7fniYb/<1})& x+fi7\\x04b/hu,ptl\\x11&tt&cTw/n1{gez\\x17eki &j+f!fslx<\\x0blni~H#lu^<gi =~\\'~n)\\'!~!\\x7fhl-SAcy:`0#|; h)byq,@L\\'/hDfu,i `EDw:9k_B/<!s}o yest\\x19nr:b!+<odY\\x0ca\\x7fniUw/}ttl& nefu*\\x07\\'n+ocyT!DIsc&\\'Lnn<5uf\\x0cd=ef\\x7f++s ej+<a\\x0bBI :/oU#(}5ulr\\n:d\\':/=knnd+}tn^\\x7fI{(lNsaq1hfbo=&4uc l d!d\\x16rn\\x16O v+~Rfns;<|tlobty>\"h!+&jye!RD o/e\\x1a#a}tz)ta=`o::D \"n`d1Sr\\x16\\x0cl{Db\\x1dmkesE)hric`Xn;k++x,selE@\\n\\x7f/\\'_#nutw)tc\\x17\\x7fhs7i\\'\"m/\\x01ildXDet>d\\x1a#b<tn)i =+\\'~&+cn~sjea\\x0bWIisntU#bs5<pr\\nT+iv\\x07nw7\\'&hu sZI sniBbao-<hclx+i\\x10n \\'!\\x7fh+xi!YOi:/k\\x1af|y=<mipm+bo Df+cu+yss\\\\G\\'snf\\x1av\\x05jsrninib\\': /iDgi~<eiBKot:t_#a\\x16#s{gz=+bS>=\\'\\x1d{oxtdh\\x16km:4\\r[o/<1}zoi=dcN<=h<{&eu,&\\\\Xesnp0bnhx;aa\\'t\\x7fn:(/d\\x17+`nqodXeh}nf0vfh5<)it=|f: #~<j\\x0b2ryh\\x17C *=~_-\\x05i1ylhfiR\\'~n bn+n+xsd_\\x0ctin\\'Y#j<tsfre|j\\'tnnci~!neccY\\x0c _\\x17\\'Tb/<0E.&tt+a6!:\\'-j!oyL!SEhu!\\'_g{<:<)t\\n=fry=/\\' +!~yY!X\\x0ct\\x7f+*Tj#r<y\\x03shz+fS/9l\\x0c\\'nyxdsQ\\x7fc\\x7f bHl/x=<`ug\\x17r*vn/a%fhX0oiSC :\\'\\'Cl\\x7fe<<g&s=+n:7)p:i-dP vW\\x0co\\x7f wCk/rto)jy=n\\rvn/a%fhHynBSBl:nf0b{h!e|ehxd~:7:tn+m+}fj[EAs\"k^#xL-t)h n\\'o\\x7f!\\rb Hde_eofUh: \\'I#',\n",
       " 110)"
      ]
     },
     "execution_count": 78,
     "metadata": {},
     "output_type": "execute_result"
    }
   ],
   "source": [
    "decrypt(message[::3])"
   ]
  },
  {
   "cell_type": "code",
   "execution_count": 79,
   "id": "6f22d8bf",
   "metadata": {},
   "outputs": [
    {
     "data": {
      "text/plain": [
       "(\"Ibhcl na ro \\nncemmoiavano pt1dhgn an'  euY hbo.oxaa ef ygeyoar \\nhd\\no e bc  n'ueoanteraayo yio\\nbtdc,s\",\n",
       " 84)"
      ]
     },
     "execution_count": 79,
     "metadata": {},
     "output_type": "execute_result"
    }
   ],
   "source": [
    "decrypt(message[::29])"
   ]
  },
  {
   "cell_type": "markdown",
   "id": "b6d3f67b",
   "metadata": {},
   "source": [
    "The keysize shall be 29, decrypt the message."
   ]
  },
  {
   "cell_type": "code",
   "execution_count": 75,
   "id": "de5322dc",
   "metadata": {},
   "outputs": [
    {
     "name": "stdout",
     "output_type": "stream",
     "text": [
      "I'm back and I'm ringin' the bell \n",
      "A rockin' on the mike while the fly girls yell \n",
      "In ecstasy in the back of me \n",
      "Well that's my DJ Deshay cuttin' all them Z's \n",
      "Hittin' hard and the girlies goin' crazy \n",
      "Vanilla's on the mike, man I'm not lazy. \n",
      "\n",
      "I'm lettin' my drug kick in \n",
      "It controls my mouth and I begin \n",
      "To just let it flow, let my concepts go \n",
      "My posse's to the side yellin', Go Vanilla Go! \n",
      "\n",
      "Smooth 'cause that's the way I will be \n",
      "And if you don't give a damn, then \n",
      "Why you starin' at me \n",
      "So get off 'cause I control the stage \n",
      "There's no dissin' allowed \n",
      "I'm in my own phase \n",
      "The girlies sa y they love me and that is ok \n",
      "And I can dance better than any kid n' play \n",
      "\n",
      "Stage 2 -- Yea the one ya' wanna listen to \n",
      "It's off my head so let the beat play through \n",
      "So I can funk it up and make it sound good \n",
      "1-2-3 Yo -- Knock on some wood \n",
      "For good luck, I like my rhymes atrocious \n",
      "Supercalafragilisticexpialidocious \n",
      "I'm an effect and that you can bet \n",
      "I can take a fly girl and make her wet. \n",
      "\n",
      "I'm like Samson -- Samson to Delilah \n",
      "There's no denyin', You can try to hang \n",
      "But you'll keep tryin' to get my style \n",
      "Over and over, practice makes perfect \n",
      "But not if you're a loafer. \n",
      "\n",
      "You'll get nowhere, no place, no time, no girls \n",
      "Soon -- Oh my God, homebody, you probably eat \n",
      "Spaghetti with a spoon! Come on and say it! \n",
      "\n",
      "VIP. Vanilla Ice yep, yep, I'm comin' hard like a rhino \n",
      "Intoxicating so you stagger like a wino \n",
      "So punks stop trying and girl stop cryin' \n",
      "Vanilla Ice is sellin' and you people are buyin' \n",
      "'Cause why the freaks are jockin' like Crazy Glue \n",
      "Movin' and groovin' trying to sing along \n",
      "All through the ghetto groovin' this here song \n",
      "Now you're amazed by the VIP posse. \n",
      "\n",
      "Steppin' so hard like a German Nazi \n",
      "Startled by the bases hittin' ground \n",
      "There's no trippin' on mine, I'm just gettin' down \n",
      "Sparkamatic, I'm hangin' tight like a fanatic \n",
      "You trapped me once and I thought that \n",
      "You might have it \n",
      "So step down and lend me your ear \n",
      "'89 in my time! You, '90 is my year. \n",
      "\n",
      "You're weakenin' fast, YO! and I can tell it \n",
      "Your body's gettin' hot, so, so I can smell it \n",
      "So don't be mad and don't be sad \n",
      "'Cause the lyrics belong to ICE, You can call me Dad \n",
      "You're pitchin' a fit, so step back and endure \n",
      "Let the witch doctor, Ice, do the dance to cure \n",
      "So come up close and don't be square \n",
      "You wanna battle me -- Anytime, anywhere \n",
      "\n",
      "You thought that I was weak, Boy, you're dead wrong \n",
      "So come on, everybody and sing this song \n",
      "\n",
      "Say -- Play that funky music Say, go white boy, go white boy go \n",
      "play that funky music Go white boy, go white boy, go \n",
      "Lay down and boogie and play that funky music till you die. \n",
      "\n",
      "Play that funky music Come on, Come on, let me hear \n",
      "Play that funky music white boy you say it, say it \n",
      "Play that funky music A little louder now \n",
      "Play that funky music, white boy Come on, Come on, Come on \n",
      "Play that funky music \n",
      "\n"
     ]
    }
   ],
   "source": [
    "KEYSIZE = 29\n",
    "\n",
    "ciphers = []\n",
    "for i in range(KEYSIZE):\n",
    "    _, c = decrypt(message[i::29])\n",
    "    ciphers.append(c)\n",
    "\n",
    "def decrypt_multi():\n",
    "    res = []\n",
    "    for i in range(0, len(message)):\n",
    "        res.append(chr(ciphers[i % KEYSIZE] ^ message[i]))\n",
    "\n",
    "    return \"\".join(res)\n",
    "\n",
    "print(decrypt_multi())"
   ]
  }
 ],
 "metadata": {
  "kernelspec": {
   "display_name": "Python 3",
   "language": "python",
   "name": "python3"
  },
  "language_info": {
   "codemirror_mode": {
    "name": "ipython",
    "version": 3
   },
   "file_extension": ".py",
   "mimetype": "text/x-python",
   "name": "python",
   "nbconvert_exporter": "python",
   "pygments_lexer": "ipython3",
   "version": "3.10.5"
  }
 },
 "nbformat": 4,
 "nbformat_minor": 5
}
