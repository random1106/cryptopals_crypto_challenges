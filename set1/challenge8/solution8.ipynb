{
 "cells": [
  {
   "cell_type": "code",
   "execution_count": 5,
   "id": "8d1e10c0",
   "metadata": {},
   "outputs": [],
   "source": [
    "import numpy as np\n",
    "texts = np.loadtxt(\"https://cryptopals.com/static/challenge-data/8.txt\", dtype=\"str\")"
   ]
  },
  {
   "cell_type": "code",
   "execution_count": 9,
   "id": "fd616b83",
   "metadata": {},
   "outputs": [],
   "source": [
    "def isrepetitive(message):\n",
    "    rep = False\n",
    "    for i in range(len(message) // 32):\n",
    "        for j in range(i+1, len(message) // 32):\n",
    "            if message[i*32:i*32+32] == message[j*32:j*32+32]:\n",
    "                rep = True\n",
    "                return rep\n",
    "    return rep"
   ]
  },
  {
   "cell_type": "code",
   "execution_count": null,
   "id": "ce59b336",
   "metadata": {},
   "outputs": [
    {
     "name": "stdout",
     "output_type": "stream",
     "text": [
      "132\n",
      "d880619740a8a19b7840a8a31c810a3d08649af70dc06f4fd5d2d69c744cd283e2dd052f6b641dbf9d11b0348542bb5708649af70dc06f4fd5d2d69c744cd2839475c9dfdbc1d46597949d9c7e82bf5a08649af70dc06f4fd5d2d69c744cd28397a93eab8d6aecd566489154789a6b0308649af70dc06f4fd5d2d69c744cd283d403180c98c8f6db1f2a3f9c4040deb0ab51b29933f2c123c58386b06fba186a\n"
     ]
    }
   ],
   "source": [
    "for i, text in enumerate(texts):\n",
    "    if isrepetitive(text):\n",
    "        print(i)\n",
    "        print(text)\n"
   ]
  }
 ],
 "metadata": {
  "kernelspec": {
   "display_name": "Python 3",
   "language": "python",
   "name": "python3"
  },
  "language_info": {
   "codemirror_mode": {
    "name": "ipython",
    "version": 3
   },
   "file_extension": ".py",
   "mimetype": "text/x-python",
   "name": "python",
   "nbconvert_exporter": "python",
   "pygments_lexer": "ipython3",
   "version": "3.10.5"
  }
 },
 "nbformat": 4,
 "nbformat_minor": 5
}
